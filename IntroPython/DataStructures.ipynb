{
 "cells": [
  {
   "cell_type": "code",
   "execution_count": null,
   "id": "d059f642",
   "metadata": {},
   "outputs": [],
   "source": [
    "pandas"
   ]
  },
  {
   "cell_type": "code",
   "execution_count": null,
   "id": "4b045436",
   "metadata": {},
   "outputs": [],
   "source": [
    "netcdf"
   ]
  },
  {
   "cell_type": "code",
   "execution_count": null,
   "id": "cfe703dc",
   "metadata": {},
   "outputs": [],
   "source": []
  }
 ],
 "metadata": {
  "kernelspec": {
   "display_name": "Python 3 (ipykernel)",
   "language": "python",
   "name": "python3"
  },
  "language_info": {
   "codemirror_mode": {
    "name": "ipython",
    "version": 3
   },
   "file_extension": ".py",
   "mimetype": "text/x-python",
   "name": "python",
   "nbconvert_exporter": "python",
   "pygments_lexer": "ipython3",
   "version": "3.9.7"
  }
 },
 "nbformat": 4,
 "nbformat_minor": 5
}
