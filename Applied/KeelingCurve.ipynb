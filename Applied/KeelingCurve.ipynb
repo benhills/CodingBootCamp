{
 "cells": [
  {
   "cell_type": "code",
   "execution_count": null,
   "id": "94bc68ae",
   "metadata": {},
   "outputs": [],
   "source": [
    "# You definitely need numpy and matplotlib, but add any other libraries you might want\n",
    "import numpy as np\n",
    "import matplotlib.pyplot as plt\n",
    "%matplotlib inline"
   ]
  },
  {
   "cell_type": "markdown",
   "id": "a14c1976-6fde-4ae5-b61a-902b97181780",
   "metadata": {},
   "source": [
    "# Direct CO$_2$ Measurements from Moana Loa\n",
    "(Keeling et al., 2001)"
   ]
  },
  {
   "cell_type": "code",
   "execution_count": null,
   "id": "af26db48",
   "metadata": {},
   "outputs": [],
   "source": [
    "data_dir = './data/'\n",
    "fn = data_dir+'MoanaLoa_CO2_recent.csv'\n",
    "mlo_data = np.genfromtxt(fn,delimiter=',',skip_header=57)"
   ]
  },
  {
   "cell_type": "markdown",
   "id": "1dd46ffe-f22b-4565-9d56-ca567947c773",
   "metadata": {},
   "source": [
    "Look at the above csv file with your chosen text editor in order to determine which data columns are most useful to you. I suggest that you choose a time column first, then plot a few of the CO$_2$ columns against one another to compare. \n",
    "\n",
    "Hints: \n",
    "- There is no 'best' data column, each will be suited to address certain questions, so keep several in mind as you progress below.\n",
    "- A full column can be indexed as col = data[:,0] meaning that you want to pull everything (:) from a chosen column (0)."
   ]
  },
  {
   "cell_type": "code",
   "execution_count": null,
   "id": "6ed01585-0b0b-4901-a089-276b44c511f5",
   "metadata": {},
   "outputs": [],
   "source": [
    "#plt.figure()"
   ]
  },
  {
   "cell_type": "markdown",
   "id": "eeaf115e-2579-4a67-963e-97bf2268b748",
   "metadata": {},
   "source": [
    "They record erroneous/missing data points as -99.99. Use your array indexing skills to remove any points with that value. Then replot the figure."
   ]
  },
  {
   "cell_type": "code",
   "execution_count": null,
   "id": "42341262-6e4b-4a8e-80a7-407a0eeaba0e",
   "metadata": {},
   "outputs": [],
   "source": [
    "#plt.figure()"
   ]
  },
  {
   "cell_type": "markdown",
   "id": "cb2e4af3-31b2-41a4-8068-907dfdd8de8b",
   "metadata": {},
   "source": [
    "## Questions:\n",
    "\n",
    "1) What is the seasonality? That is, how does CO$_2$ change throughout the year? Is this what you expected? Why?\n",
    "\n",
    "2) What is the general trend when the seasonal cycle is removed? What is the approximate gradient (change in CO$_2$ over time)?\n",
    "\n",
    "3) Calculate the gradient over time using np.gradient(). You might have to do some pre-processing here, go back to /Intermediate/SignalProcessing.ipynb if you need help."
   ]
  },
  {
   "cell_type": "markdown",
   "id": "fb958566-d543-4440-b5dc-c197c40c3a14",
   "metadata": {},
   "source": [
    "# Recent History from Law Dome \n",
    "(MacFarling Meure et al., 2006)\n",
    "\n",
    "Again, have a look at the text file in order to best select the appropriate columns. Plot these data against those above to compare them qualitatively."
   ]
  },
  {
   "cell_type": "code",
   "execution_count": null,
   "id": "136d8aa4",
   "metadata": {},
   "outputs": [],
   "source": [
    "fn = data_dir+'LawDome_CO2_2kyr.txt'\n",
    "law_data = np.genfromtxt(fn,skip_header=1)"
   ]
  },
  {
   "cell_type": "code",
   "execution_count": null,
   "id": "3399d614-c43d-46c0-975c-c35618797f6c",
   "metadata": {},
   "outputs": [],
   "source": [
    "#plt.figure()"
   ]
  },
  {
   "cell_type": "markdown",
   "id": "7e1008d8-9e6b-48c4-a4c4-cb98718abac9",
   "metadata": {},
   "source": [
    "Questions:\n",
    "\n",
    "1) What is the measurement resolution at Law Dome compared to at Moana Loa? Think about how these two datasets are collected and reflect on why these must be different."
   ]
  },
  {
   "cell_type": "markdown",
   "id": "42fd7e09-f003-4683-8c87-767927b778e6",
   "metadata": {},
   "source": [
    "# 800-kyr History from Dome C\n",
    "(Luthi et al., 2008; Jouzel et al., 2007)\n",
    "\n",
    "Load the data file for the extended CO$_2$ record aggregated from several ice cores (mostly from EPICA Dome C). \n",
    "- ./data/Composite_CO2_800kyr.csv\n",
    "\n",
    "You will need to go through similar processing steps as above. Read the information in the data file if you need to.\n",
    "\n",
    "## Questions:\n",
    "\n",
    "1) What is the present day CO$_2$ level compared to the past ~million years? How far outside of the 'normal variations' is it currently?\n",
    "\n",
    "2) There are some sharp increases in CO$_2$ in the ice core record. Inspect them qualitatively to determine how they compare to today's rate of increase (you may need to zoom in). Calculate the gradient using np.gradient() to compare quantitatively."
   ]
  },
  {
   "cell_type": "code",
   "execution_count": null,
   "id": "47725772-71f3-4d1d-afba-0f68daa495f5",
   "metadata": {},
   "outputs": [],
   "source": []
  },
  {
   "cell_type": "markdown",
   "id": "60d1170e-5a83-43d9-adb3-308725a649df",
   "metadata": {},
   "source": [
    "# Temperature Record from Deuterium\n",
    "\n",
    "The ice-core temperature record is a 'proxy', meaning that it is derived from various isotopes preserved in the ice. Deuterium is one isotope useful for temperature (oxygen-18 another). The data we use here are from Jouzel et al. (2007):\n",
    "- ./data/edc_deutemp2007.txt\n",
    "\n",
    "Load these data and plot the Deuterium against age. They also have a column for their temperature estimate, but let's recalculate it just to make sure we are following their logic. In their supplement they define,\n",
    "\n",
    "$$ \\partial D = 6.2*T + 5.5 $$\n",
    "\n",
    "where $ \\partial D $ is Deuterium as in the data file. Use this to calculate temperature and note that the temperature they report is the 'difference from the average of the last 1000 years' so make that adjustment. Your result will not match their's *exactly* but it should be close (they make a few additional corrections). \n",
    "\n",
    "## Questions:\n",
    "\n",
    "1) How does this temperature record compare to the CO$_2$ record we plotted above?\n",
    "\n",
    "2) If the correlation between temperature and CO$_2$ is maintained, how much higher must the present-day temperature increase?"
   ]
  },
  {
   "cell_type": "code",
   "execution_count": null,
   "id": "f79d2063-39dd-44bf-b528-13738c268944",
   "metadata": {},
   "outputs": [],
   "source": []
  }
 ],
 "metadata": {
  "kernelspec": {
   "display_name": "Python 3",
   "language": "python",
   "name": "python3"
  },
  "language_info": {
   "codemirror_mode": {
    "name": "ipython",
    "version": 3
   },
   "file_extension": ".py",
   "mimetype": "text/x-python",
   "name": "python",
   "nbconvert_exporter": "python",
   "pygments_lexer": "ipython3",
   "version": "3.8.8"
  }
 },
 "nbformat": 4,
 "nbformat_minor": 5
}
