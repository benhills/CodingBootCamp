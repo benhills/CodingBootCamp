{
 "cells": [
  {
   "cell_type": "code",
   "execution_count": null,
   "id": "ab6e6abe-d142-41bd-818d-b4f97794b694",
   "metadata": {},
   "outputs": [],
   "source": [
    "# You definitely need numpy and matplotlib, but add any other libraries you might want\n",
    "import numpy as np\n",
    "import matplotlib.pyplot as plt\n",
    "%matplotlib inline"
   ]
  },
  {
   "cell_type": "markdown",
   "id": "4ba7591e-6229-4627-a0a5-26c846afa403",
   "metadata": {},
   "source": [
    "# Black Body Radiator\n",
    "\n",
    "Plank's Law says that a perfect black body radiates energy in relation to its temperature,\n",
    "\n",
    "$$ B(\\nu,T) = \\frac{2h\\nu^3}{c^2} \\frac{1}{e^{\\frac{h\\nu}{kT}}-1} $$\n",
    "\n",
    "with  the total energy radiated per unit surface area (W m$^{-2}$), and $\\sigma$ the Stefan-Boltzmann constant.\n",
    "\n",
    "Objectives:\n",
    "\n",
    "1) Write the above equation as a function. You will need to look up the relevant constants. \n",
    "\n",
    "2) Plot the result from your function for a single temperature but over a range of frequencies.\n",
    "\n",
    "3) Plot the result from your function for a single frequency but over a range of temperatures.\n",
    "\n",
    "4) Combine (2) and (3) for a plot with two independent variables (frequency and temperature). Some creativity is required here. *Hint: color is commonly used for the third variable*\n",
    "\n",
    "5) Add bounds for ultraviolet, visible, near-infrared, and infrared bands to your plot. You can look up the relevant frequencies from any standard electromagnetic spectrum online. "
   ]
  },
  {
   "cell_type": "code",
   "execution_count": null,
   "id": "dae670c3-6faf-4e99-baf9-c04320abbb9f",
   "metadata": {},
   "outputs": [],
   "source": [
    "#plt.figure()"
   ]
  },
  {
   "cell_type": "markdown",
   "id": "bf4d62a8-194d-409a-8c21-4255e9c8573c",
   "metadata": {},
   "source": [
    "# Is the Earth a black-body radiator?\n",
    "\n",
    "Read this ['science brief'](https://www.giss.nasa.gov/research/briefs/2010_schmidt_05/) from Gavin Schmidt at NASA-GISS. In particular, I want you to look at the first figure. \n",
    "\n",
    "Questions:\n",
    "\n",
    "1) How does the outgoing spectral radiance at the top of Earth's atmosphere compare to the black-body model?\n",
    "\n",
    "2) They assign molecules to certain bands of absorption. Which compounds keep the most energy from radiating out into space (greenhouse gasses)?"
   ]
  }
 ],
 "metadata": {
  "kernelspec": {
   "display_name": "Python 3",
   "language": "python",
   "name": "python3"
  },
  "language_info": {
   "codemirror_mode": {
    "name": "ipython",
    "version": 3
   },
   "file_extension": ".py",
   "mimetype": "text/x-python",
   "name": "python",
   "nbconvert_exporter": "python",
   "pygments_lexer": "ipython3",
   "version": "3.8.8"
  }
 },
 "nbformat": 4,
 "nbformat_minor": 5
}
