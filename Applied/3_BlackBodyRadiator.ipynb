{
 "cells": [
  {
   "cell_type": "code",
   "execution_count": null,
   "id": "ab6e6abe-d142-41bd-818d-b4f97794b694",
   "metadata": {},
   "outputs": [],
   "source": [
    "# You definitely need numpy and matplotlib, but add any other libraries you might want\n",
    "import numpy as np\n",
    "import matplotlib.pyplot as plt\n",
    "%matplotlib widget"
   ]
  },
  {
   "cell_type": "markdown",
   "id": "4ba7591e-6229-4627-a0a5-26c846afa403",
   "metadata": {},
   "source": [
    "# Black Body Radiator\n",
    "\n",
    "Plank's Law says that a perfect black body radiates energy in relation to its temperature,\n",
    "\n",
    "$$ B(\\nu,T) = \\frac{2h\\nu^3}{c^2} \\frac{1}{e^{\\frac{h\\nu}{kT}}-1} $$\n",
    "\n",
    "with  the total energy radiated per unit surface area (W m$^{-2}$), and $\\sigma$ the Stefan-Boltzmann constant.\n",
    "\n",
    "Objectives:\n",
    "\n",
    "1) Write the above equation as a function. You will need to look up the relevant constants. \n",
    "\n",
    "2) Plot the result from your function for a single temperature but over a range of frequencies.\n",
    "\n",
    "3) Plot the result from your function for a single frequency but over a range of temperatures.\n",
    "\n",
    "4) Combine (2) and (3) for a plot with two independent variables (frequency and temperature). Some creativity is required here. *Hint: color is commonly used for the third variable*\n",
    "\n",
    "5) Add bounds for ultraviolet, visible, near-infrared, and infrared bands to your plot. You can look up the relevant frequencies from any standard electromagnetic spectrum online. "
   ]
  },
  {
   "cell_type": "code",
   "execution_count": null,
   "id": "dae670c3-6faf-4e99-baf9-c04320abbb9f",
   "metadata": {},
   "outputs": [],
   "source": [
    "#plt.figure()"
   ]
  },
  {
   "cell_type": "markdown",
   "id": "bf4d62a8-194d-409a-8c21-4255e9c8573c",
   "metadata": {},
   "source": [
    "# Is the Earth a black-body radiator?\n",
    "\n",
    "Read this ['science brief'](https://www.giss.nasa.gov/research/briefs/2010_schmidt_05/) from Gavin Schmidt at NASA-GISS. In particular, I want you to look at the first figure. \n",
    "\n",
    "## Questions:\n",
    "\n",
    "1) How does the outgoing spectral radiance at the top of Earth's atmosphere compare to the black-body model?\n",
    "\n",
    "2) They assign molecules to certain bands of absorption. Which compounds keep the most energy from radiating out into space (greenhouse gasses)?"
   ]
  },
  {
   "cell_type": "markdown",
   "id": "d3b11b66-f06e-4ad9-ab88-5304c5bc6ed3",
   "metadata": {},
   "source": [
    "# Naked Planet Model\n",
    "\n",
    "This is taken directly from Dr. David Archer's course \"Global Warming II: Create Your Own Models in Python\" available on *Coursera*.\n",
    "\n",
    "The premise is to imagine an idealized planet with a uniform albedo, emissivity, ocean thickness, etc. Using this idealized planet we can play around with the physics to develop intuition for timescales of temperature responses and equilibrium dynamics. "
   ]
  },
  {
   "cell_type": "code",
   "execution_count": null,
   "id": "ecfb2eff-40c6-49e7-99cf-36ddea0e702a",
   "metadata": {},
   "outputs": [],
   "source": [
    "# general constants\n",
    "spy = 3.14e7       # seconds per year\n",
    "cw = 4182.         # heat capacity of water, J/kg/K\n",
    "ρw = 1000.         # density of water, kg/m3\n",
    "\n",
    "# Radiation constants\n",
    "L = 1350           # solar constant, W/m2\n",
    "α = 0.3            # albedo\n",
    "ϵ = 1.             # emissivity\n",
    "σ = 5.67E-8        # Stefan-Boltzmann constant, W/m2 K4\n",
    "\n",
    "# Heat capacity of the idealized ocean\n",
    "dw = 4000          # depth of water in meters\n",
    "c = cw*ρw*dw       # effective heat capacity\n",
    "\n",
    "# Time array\n",
    "t_init = 0.        # initial time\n",
    "t_final = 1e3      # final time\n",
    "dt = 10.           # time step in years\n",
    "times = np.arange(t_init,t_final,dt)"
   ]
  },
  {
   "cell_type": "code",
   "execution_count": null,
   "id": "005d726b-e182-4710-9332-b2bc8e3fdb30",
   "metadata": {},
   "outputs": [],
   "source": [
    "# Set the initial temperature (K)\n",
    "T = 223.\n",
    "# Define the energy content (J/kg) based on temperature and heat capacity\n",
    "E = T*c\n",
    "\n",
    "# Initialize the figure\n",
    "plt.figure()\n",
    "plt.ylabel('Temp')\n",
    "plt.xlabel('Years')\n",
    "\n",
    "# Loop through all the times, recalculate and plot the global temperature\n",
    "for t in times:\n",
    "    dE = L*(1-α)/4 - ϵ * σ * T**4.\n",
    "    E += dE * dt*spy\n",
    "    T = E/c\n",
    "    plt.plot(t,T,'k.')"
   ]
  },
  {
   "cell_type": "markdown",
   "id": "8390c6c3-6851-46fe-93c4-01774b79127b",
   "metadata": {},
   "source": [
    "## Questions\n",
    "\n",
    "1. Try to change the emissivity to some number between 0-1 (our planet is no longer a 'black-body radiator'). How does this change the equilibrium temperature? \n",
    "\n",
    "2. Try changing the albedo. Again, how does the equilibrium change?\n",
    "\n",
    "3. Try changing the ocean thickness, how does the equilibrium change?"
   ]
  }
 ],
 "metadata": {
  "kernelspec": {
   "display_name": "Python 3",
   "language": "python",
   "name": "python3"
  },
  "language_info": {
   "codemirror_mode": {
    "name": "ipython",
    "version": 3
   },
   "file_extension": ".py",
   "mimetype": "text/x-python",
   "name": "python",
   "nbconvert_exporter": "python",
   "pygments_lexer": "ipython3",
   "version": "3.8.8"
  }
 },
 "nbformat": 4,
 "nbformat_minor": 5
}
