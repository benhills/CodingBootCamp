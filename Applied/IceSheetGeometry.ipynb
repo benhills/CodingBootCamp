{
 "cells": [
  {
   "cell_type": "code",
   "execution_count": null,
   "id": "e509d147-4a12-4670-afe2-18e883943a63",
   "metadata": {},
   "outputs": [],
   "source": [
    "# You definitely need numpy and matplotlib, but add any other libraries you might want\n",
    "import numpy as np\n",
    "import matplotlib.pyplot as plt\n",
    "%matplotlib widget"
   ]
  },
  {
   "cell_type": "markdown",
   "id": "78cecae6-04c2-4d3f-acb2-7535f73bbe37",
   "metadata": {},
   "source": [
    "# Ice-Sheet Geometry\n",
    "\n",
    "Go to our shared Drive directory to get the Greenland or Antarctic Ice Sheet BedMachine product. Either is fine, take your pick. \n",
    "\n",
    "Use the outline below to import the netcdf file and load your chosen variables as arrays."
   ]
  },
  {
   "cell_type": "code",
   "execution_count": null,
   "id": "80017602-223b-4104-be1c-aa38eda06c7d",
   "metadata": {},
   "outputs": [],
   "source": [
    "from netCDF4 import Dataset\n",
    "\n",
    "fn = ''\n",
    "nc = Dataset(fn)\n",
    "variable = nc.variables('variable')[:]"
   ]
  },
  {
   "cell_type": "markdown",
   "id": "ef6fcca0-d6e4-4b41-9711-6bf94b246154",
   "metadata": {},
   "source": [
    "Create polar stereographic maps (x-y) of:\n",
    "\n",
    "- The ice bed\n",
    "- The ice surface\n",
    "- The ice thickness"
   ]
  },
  {
   "cell_type": "code",
   "execution_count": null,
   "id": "474ff73f-239c-45fa-88e8-bbc4f656a9a3",
   "metadata": {},
   "outputs": [],
   "source": [
    "#plt.figure()"
   ]
  },
  {
   "cell_type": "markdown",
   "id": "372bae29-f24a-4d00-aef1-18831eeb2ca2",
   "metadata": {},
   "source": [
    "## Questions:\n",
    "\n",
    "1) What is the thickest ice from your chosen ice sheet? Where is that located?\n",
    "\n",
    "2) Where is the bed 'overdeepened' (i.e. below sea level)?\n",
    "\n",
    "*Challenge:* Subsample cross-section from the map-view data along some arbitrary line of your choosing. This could be across the entire ice sheet or for a more local catchment, or anywhere really! Plot the bed and surface elevation together in this cross-sectional view. "
   ]
  },
  {
   "cell_type": "code",
   "execution_count": null,
   "id": "5f8e449c-fef8-4fb4-b133-50f6b80f441b",
   "metadata": {},
   "outputs": [],
   "source": [
    "#plt.figure()"
   ]
  }
 ],
 "metadata": {
  "kernelspec": {
   "display_name": "Python 3",
   "language": "python",
   "name": "python3"
  },
  "language_info": {
   "codemirror_mode": {
    "name": "ipython",
    "version": 3
   },
   "file_extension": ".py",
   "mimetype": "text/x-python",
   "name": "python",
   "nbconvert_exporter": "python",
   "pygments_lexer": "ipython3",
   "version": "3.8.8"
  }
 },
 "nbformat": 4,
 "nbformat_minor": 5
}
