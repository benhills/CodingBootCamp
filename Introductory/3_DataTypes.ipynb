{
 "cells": [
  {
   "cell_type": "markdown",
   "id": "4c119e11-9060-4079-8c15-e75283ac2cdb",
   "metadata": {},
   "source": [
    "# Data Types\n",
    "\n",
    "The Python kernel recognizes objects in different ways based on how you define them. Below, we explore some of the common data types and data structures."
   ]
  },
  {
   "cell_type": "markdown",
   "id": "2ca83d35-ee04-4a1a-9ad3-1b8fb39fb241",
   "metadata": {},
   "source": [
    "Common data types:\n",
    "- string (`str`)\n",
    "- integer (`int`)\n",
    "- floating point number (`float`)\n",
    "- complex number (`complex`)\n",
    "- boolean (`bool`)\n",
    "\n",
    "We discussed strings in the previous notebook. Generally, anything with letters in it is a string, but you can put numbers in a string too. We will not spend much more time with strings here, but feel free to create your own cells to play around more with strings."
   ]
  },
  {
   "cell_type": "markdown",
   "id": "93010312-5f99-4182-b699-d8f98767ea17",
   "metadata": {},
   "source": [
    "# Number Types\n",
    "\n",
    "Integer vs. Floating Point vs. Complex\n",
    "\n",
    "In the last notebook, we discovered that numbers are defined differently depending on whether a period is included. This is because the Python kernel assumes that you want to define the number as an integer if you do not use a period, and it assumes that you want to define it as a floating point if you include a period. \n",
    "\n",
    "You can also convert between the two using `float()` or `int()`, play around with these below:"
   ]
  },
  {
   "cell_type": "code",
   "execution_count": null,
   "id": "4b045436",
   "metadata": {},
   "outputs": [],
   "source": [
    "# Define a variable\n",
    "x = 1.\n",
    "# Showthe data type\n",
    "type(x)"
   ]
  },
  {
   "cell_type": "code",
   "execution_count": null,
   "id": "7a3adace-66d9-46aa-8e66-e44d7979bf96",
   "metadata": {},
   "outputs": [],
   "source": [
    "# Save a new variable with a new type; display again\n",
    "y = int(x)\n",
    "type(y)"
   ]
  },
  {
   "cell_type": "markdown",
   "id": "c2fd740c-89d8-4214-99a2-ab773ec394bd",
   "metadata": {},
   "source": [
    "You can convert the above variables to complex as well with `complex()`, or you can use implicit assignment for complex with `j` (this is like the period for `float`)."
   ]
  },
  {
   "cell_type": "code",
   "execution_count": null,
   "id": "dc952a2a-41fd-44da-9da3-2e4598c74582",
   "metadata": {},
   "outputs": [],
   "source": [
    "c = 1j\n",
    "type(c)"
   ]
  },
  {
   "cell_type": "markdown",
   "id": "9dacd86a-42b4-462c-9bc0-8f84526875bb",
   "metadata": {},
   "source": [
    "Questions:\n",
    "\n",
    "1) What happens when you execute algebraic expressions (i.e. `+`) with different data types (e.g. integer and floating point numbers)?\n",
    "\n",
    "2) What happens when you divide integers which are not divisible (e.g. `3/2`)? Try the integer division that we discussed in the previous notebook, `//`."
   ]
  },
  {
   "cell_type": "markdown",
   "id": "6108b93a-3c79-4c44-8f9e-610dc7c74d19",
   "metadata": {},
   "source": [
    "# Boolean Type\n",
    "\n",
    "It is commonly useful to assign a variable as True/False. This is what we call a 'Boolean', named after a body of research from [George Boole](https://en.wikipedia.org/wiki/George_Boole). In Python, booleans are assigned with `bool()` or implicitly with the words True/False (this is not a string, it has no quotations)."
   ]
  },
  {
   "cell_type": "code",
   "execution_count": null,
   "id": "faa12d4a-c2aa-46fb-acad-ff62837cfb8b",
   "metadata": {},
   "outputs": [],
   "source": [
    "F = bool(0)\n",
    "print(F)\n",
    "type(F)"
   ]
  },
  {
   "cell_type": "code",
   "execution_count": null,
   "id": "a1a6e73e-bd03-4970-81ab-97aac1ad7e90",
   "metadata": {},
   "outputs": [],
   "source": [
    "type(True)"
   ]
  },
  {
   "cell_type": "markdown",
   "id": "fad540bd-54fc-4df9-96c0-dd906e1d0d85",
   "metadata": {},
   "source": [
    "# Data Structures\n",
    "\n",
    "Now we want to organize data of either the same or different types, together into a structure. \n",
    "\n",
    "Common data structures:\n",
    "- tuple (`tuple` or implicitly `()`)\n",
    "- list (`list` or implicitly `[]`)\n",
    "- dictionary (`dict` or implicitly `{}`)"
   ]
  },
  {
   "cell_type": "code",
   "execution_count": null,
   "id": "775eb792-917b-40b4-b4fe-3e98451a4f2f",
   "metadata": {},
   "outputs": [],
   "source": [
    "# A tuple is two items in parentheses separated by a comma \n",
    "\n",
    "# The items can be of a shared type\n",
    "t = (1, 2)\n",
    "# or of different types\n",
    "t = ('a', 2)\n",
    "type(t)"
   ]
  },
  {
   "cell_type": "code",
   "execution_count": null,
   "id": "a3d7d224-9752-4843-85f7-e1afb1983a7a",
   "metadata": {},
   "outputs": [],
   "source": [
    "# A list is any number of items in square brackets, again separated by a comma\n",
    "\n",
    "# Can be of shared type\n",
    "l = [0,1,2,3,4]\n",
    "# or of different types\n",
    "l = ['a', 1, 2, 3, 4]\n",
    "# you can even put a tuple or a list inside of a list\n",
    "l = [('a', 2), [0,1,2,3,4], 2, 3, 4]\n",
    "type(l)"
   ]
  },
  {
   "cell_type": "code",
   "execution_count": null,
   "id": "3825e843-3221-4d8e-aad8-93ad0bf8f3d6",
   "metadata": {},
   "outputs": [],
   "source": [
    "# You can query a list by calling it at a specific index\n",
    "\n",
    "# The index must be an integer, and Python starts at 0 \n",
    "# The 0-based indexing is a critical difference from some other languages (e.g. Matlab)\n",
    "index = 0\n",
    "l[index]"
   ]
  },
  {
   "cell_type": "code",
   "execution_count": null,
   "id": "f077a9a6-1189-4761-8a46-91965e7e1cca",
   "metadata": {},
   "outputs": [],
   "source": [
    "# A dictionary is a group of items, each paired with a 'key'\n",
    "\n",
    "d = {'a': 1, 'b': 2, 'c': 3}\n",
    "type(d)"
   ]
  },
  {
   "cell_type": "code",
   "execution_count": null,
   "id": "01d8e735-0f2a-4c43-b71f-a0fccf1270b4",
   "metadata": {},
   "outputs": [],
   "source": [
    "# You can display the keys from a dictionary like so\n",
    "\n",
    "d.keys()"
   ]
  },
  {
   "cell_type": "code",
   "execution_count": null,
   "id": "4caf1b42-e619-43b5-ada2-8848ec9e843e",
   "metadata": {},
   "outputs": [],
   "source": [
    "# Dictionaries are indexed by the keys, not by integers\n",
    "\n",
    "d['a']"
   ]
  },
  {
   "cell_type": "markdown",
   "id": "bd02174c-838b-454a-9e60-d488b07c0eee",
   "metadata": {},
   "source": [
    "Questions:\n",
    "\n",
    "1) Try converting your dictionary to a list. What happens?\n",
    "\n",
    "2) Create a list with the second item as a tuple. Using only one line of code, print the second item in the tuple (this required indexing the list then indexing the tuple)."
   ]
  }
 ],
 "metadata": {
  "kernelspec": {
   "display_name": "Python 3",
   "language": "python",
   "name": "python3"
  },
  "language_info": {
   "codemirror_mode": {
    "name": "ipython",
    "version": 3
   },
   "file_extension": ".py",
   "mimetype": "text/x-python",
   "name": "python",
   "nbconvert_exporter": "python",
   "pygments_lexer": "ipython3",
   "version": "3.8.8"
  }
 },
 "nbformat": 4,
 "nbformat_minor": 5
}
