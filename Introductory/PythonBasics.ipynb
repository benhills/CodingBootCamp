{
 "cells": [
  {
   "cell_type": "markdown",
   "id": "df6a9d87",
   "metadata": {},
   "source": [
    "## Hello World!!\n",
    "\n",
    "Welcome to your new favorite tool, the Jupyter Notebook."
   ]
  },
  {
   "cell_type": "code",
   "execution_count": 5,
   "id": "fe36ce66",
   "metadata": {},
   "outputs": [
    {
     "ename": "NameError",
     "evalue": "name 'syntax' is not defined",
     "output_type": "error",
     "traceback": [
      "\u001b[0;31m---------------------------------------------------------------------------\u001b[0m",
      "\u001b[0;31mNameError\u001b[0m                                 Traceback (most recent call last)",
      "\u001b[0;32m/var/folders/7k/9p6bgnfs75513xxbgkfm73tr0000gn/T/ipykernel_5916/1867258837.py\u001b[0m in \u001b[0;36m<module>\u001b[0;34m\u001b[0m\n\u001b[0;32m----> 1\u001b[0;31m \u001b[0msyntax\u001b[0m\u001b[0;34m\u001b[0m\u001b[0;34m\u001b[0m\u001b[0m\n\u001b[0m\u001b[1;32m      2\u001b[0m \u001b[0;31m# comment\u001b[0m\u001b[0;34m\u001b[0m\u001b[0;34m\u001b[0m\u001b[0m\n\u001b[1;32m      3\u001b[0m \u001b[0;34m'string'\u001b[0m\u001b[0;34m\u001b[0m\u001b[0;34m\u001b[0m\u001b[0m\n\u001b[1;32m      4\u001b[0m \u001b[0;34m\"\"\"long string\"\"\"\u001b[0m\u001b[0;34m\u001b[0m\u001b[0;34m\u001b[0m\u001b[0m\n",
      "\u001b[0;31mNameError\u001b[0m: name 'syntax' is not defined"
     ]
    }
   ],
   "source": [
    "syntax\n",
    "# comment\n",
    "'string'\n",
    "\"\"\"long string\"\"\"\n"
   ]
  },
  {
   "cell_type": "code",
   "execution_count": 1,
   "id": "b9d72df9",
   "metadata": {},
   "outputs": [
    {
     "name": "stdout",
     "output_type": "stream",
     "text": [
      "string\n",
      "long string which can \n",
      "occupy multiple lines\n"
     ]
    }
   ],
   "source": [
    "f = 'string'\n",
    "g = \"\"\"long string which can \n",
    "occupy multiple lines\"\"\"\n",
    "\n",
    "print(f)\n",
    "print(g)"
   ]
  },
  {
   "cell_type": "markdown",
   "id": "d17b4101",
   "metadata": {},
   "source": [
    "## Simple algebraic operators\n",
    "\n",
    "\\+ add\n",
    "\n",
    "\\- subtract\n",
    "\n",
    "\\* multiply\n",
    "\n",
    "\\/ divide\n",
    "\n",
    "\\** exponent"
   ]
  },
  {
   "cell_type": "code",
   "execution_count": 2,
   "id": "263ac5a8",
   "metadata": {},
   "outputs": [
    {
     "data": {
      "text/plain": [
       "1.0"
      ]
     },
     "execution_count": 2,
     "metadata": {},
     "output_type": "execute_result"
    }
   ],
   "source": [
    "2/2"
   ]
  },
  {
   "cell_type": "markdown",
   "id": "23374401",
   "metadata": {},
   "source": [
    "\\% modulo\n",
    "\n",
    "\\// integer divide"
   ]
  },
  {
   "cell_type": "code",
   "execution_count": null,
   "id": "ceef2cc3",
   "metadata": {},
   "outputs": [],
   "source": []
  }
 ],
 "metadata": {
  "kernelspec": {
   "display_name": "Python 3",
   "language": "python",
   "name": "python3"
  },
  "language_info": {
   "codemirror_mode": {
    "name": "ipython",
    "version": 3
   },
   "file_extension": ".py",
   "mimetype": "text/x-python",
   "name": "python",
   "nbconvert_exporter": "python",
   "pygments_lexer": "ipython3",
   "version": "3.8.8"
  }
 },
 "nbformat": 4,
 "nbformat_minor": 5
}
