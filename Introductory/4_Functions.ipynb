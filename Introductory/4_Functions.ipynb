{
 "cells": [
  {
   "cell_type": "markdown",
   "id": "2181e3b0-9ce0-46a3-b903-06237772a881",
   "metadata": {},
   "source": [
    "# Functions\n",
    "\n",
    "You have been unknowingly using some functions already (like `print()` and `type()`), but now we want to learn more about how to inspect a function and even to define them ourselves.\n",
    "\n",
    "To inspect a function, type `?` behind it and execute the cell. This will bring up a 'DocString' which tells you a few things about the function. As a shortcut, you can also bring up the DocString with `Shift+Tab` when your cursor is on the function."
   ]
  },
  {
   "cell_type": "code",
   "execution_count": null,
   "id": "cf467afb-a459-4089-9eb4-9ca639b7d729",
   "metadata": {},
   "outputs": [],
   "source": [
    "print?"
   ]
  },
  {
   "cell_type": "markdown",
   "id": "6f05ac5c-4c59-44bd-875c-d1ae8a3d0adb",
   "metadata": {},
   "source": [
    "In the case where you want to execute a command or group of commands repeatedly, you may want to define your own function. You can do this easily with Python using `def` followed by your new function name `example_function` (hopefully something descriptive, followed by parentheses with you input variables `(var1, var2, ...)`, and finally by `:`. Everything following the `:` should be indented `>`.\n",
    "\n",
    "Typically, you will start your function with a multi-line string (the docstring) which tells a user what this function is. Then a series of commands to carry out the function, again this should all be indented. Finally, if you want the function to return some output (not necessarily required) you can end with `return`."
   ]
  },
  {
   "cell_type": "code",
   "execution_count": null,
   "id": "b15a4497",
   "metadata": {},
   "outputs": [],
   "source": [
    "# Define a function\n",
    "\n",
    "def add_numbers(a,b):\n",
    "    \"\"\"\n",
    "    Add two numbers\n",
    "    \"\"\"\n",
    "    return a+b"
   ]
  },
  {
   "cell_type": "code",
   "execution_count": null,
   "id": "bf0c1f9d-c683-43a6-ba50-0807963663b0",
   "metadata": {},
   "outputs": [],
   "source": [
    "# Execute the function we just defined\n",
    "\n",
    "add_numbers(2,2)"
   ]
  },
  {
   "cell_type": "code",
   "execution_count": null,
   "id": "11a9eaba",
   "metadata": {},
   "outputs": [],
   "source": [
    "# Check that it is a function\n",
    "\n",
    "type(add_numbers)"
   ]
  },
  {
   "cell_type": "code",
   "execution_count": null,
   "id": "9f9edcf7",
   "metadata": {},
   "outputs": [],
   "source": [
    "# Try inspecting the DocString from what we just wrote\n",
    "\n",
    "add_numbers?"
   ]
  },
  {
   "cell_type": "code",
   "execution_count": null,
   "id": "525c1705-f38f-4930-8b84-aba1faf495f2",
   "metadata": {},
   "outputs": [],
   "source": [
    "# You can also inspect the full source code of a function with `??`.\n",
    "\n",
    "add_numbers??"
   ]
  },
  {
   "cell_type": "markdown",
   "id": "fd48c83e-48cf-40e6-aeb9-b17fe03ee1c9",
   "metadata": {},
   "source": [
    "Questions:\n",
    "\n",
    "1) Try writing your own function. One idea would be to program the [quadratic formula](https://en.wikipedia.org/wiki/Quadratic_formula) which should take three numbers as input, 'a', 'b', and 'c', then output two numbers $x_1$ and $x_2$. \n",
    "\n",
    "2) Are variables defined in a function also defined more broadly in your Python kernel? Try it out."
   ]
  }
 ],
 "metadata": {
  "kernelspec": {
   "display_name": "Python 3",
   "language": "python",
   "name": "python3"
  },
  "language_info": {
   "codemirror_mode": {
    "name": "ipython",
    "version": 3
   },
   "file_extension": ".py",
   "mimetype": "text/x-python",
   "name": "python",
   "nbconvert_exporter": "python",
   "pygments_lexer": "ipython3",
   "version": "3.8.8"
  }
 },
 "nbformat": 4,
 "nbformat_minor": 5
}
