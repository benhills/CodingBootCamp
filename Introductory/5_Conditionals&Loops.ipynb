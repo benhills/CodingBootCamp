{
 "cells": [
  {
   "cell_type": "markdown",
   "id": "16d026ad-098e-499a-9c56-e055780c1159",
   "metadata": {},
   "source": [
    "# Conditionals and Loops\n",
    "\n",
    "The final and perhaps most foundational programming tools that we need to consider are conditionals and loops. Once you know and understand the power of these tools, I believe you can call yourself a computer programmer."
   ]
  },
  {
   "cell_type": "markdown",
   "id": "68c3bb07-8955-4703-bd07-3481eed27f56",
   "metadata": {},
   "source": [
    "## Conditionals\n",
    "\n",
    "Remember George Boole?? He's back. Conditionals are where the `bool` type become really important. Do you want to execute something only if some criteria are met? use a conditional statement which outputs a `bool`.\n",
    "\n",
    "Comparison operators:\n",
    "- equal to `==`\n",
    "- not equal to `!=`\n",
    "- greather than `>`\n",
    "- greater than or equal to `>=`\n",
    "\n",
    "Logical operators:\n",
    "- `and`\n",
    "- `or`\n",
    "- `not`\n",
    "\n",
    "Membership operators:\n",
    "- if item is in a list `in`"
   ]
  },
  {
   "cell_type": "code",
   "execution_count": null,
   "id": "86cd2707-6ec4-4d0d-9a50-1978700f6eaa",
   "metadata": {},
   "outputs": [],
   "source": [
    "# Try some out here\n",
    "\n",
    "2 == 2"
   ]
  },
  {
   "cell_type": "code",
   "execution_count": null,
   "id": "fe35ac98-d73c-4452-92ea-0cb96a98e666",
   "metadata": {},
   "outputs": [],
   "source": [
    "2 > 3"
   ]
  },
  {
   "cell_type": "markdown",
   "id": "b1b5f487-fc72-4526-a604-d24c0ce5f8cb",
   "metadata": {},
   "source": [
    "Now we want to execute some code only when the conditional operator is met using an `if` statement. \n",
    "\n",
    "Try experimenting:\n",
    "\n",
    "1) Execute the `if` statement below to make sure that it works.\n",
    "\n",
    "2) Add an `else` clause after the `if` (no indent) which will be executed if the conditional fails. Try changing the conditional to get the `else` to execute.\n",
    "\n",
    "3) Add an `elif` (else if) in between your `if` and your `else` clauses. This is an intermediate conditional, so Python will try your `if` conditional first, if that is true it will execute the associated lines of code. Then, it will try your `elif` conditional. If neither conditional is `True` then it will execute the `else` code. \n",
    "\n",
    "Many variations on the `if` statement can be useful, including things like 'nested conditionals'. Try playing around with it to get a feel for its utility."
   ]
  },
  {
   "cell_type": "code",
   "execution_count": null,
   "id": "53b75eb9-5edb-4f9a-91d1-ee368ad6c975",
   "metadata": {},
   "outputs": [],
   "source": [
    "# An example `if` statement\n",
    "\n",
    "if 2 == 2:\n",
    "    print('Success!')\n",
    "    \n",
    "# Try adding clauses for `else` or even `elif`"
   ]
  },
  {
   "cell_type": "markdown",
   "id": "f66d556a-5e8d-4e1e-ac2c-1fd388032a9e",
   "metadata": {},
   "source": [
    "## Loops\n",
    "\n",
    "Now we want to run some lines of code over and over again. Sounds boring? well loops are extremely common and extremely powerful when used correctly. There are two main types:\n",
    "\n",
    "- `for` loops execute the code for each item in a list or array\n",
    "- `while` loops execute the code repeatedly until some conditional is met"
   ]
  },
  {
   "cell_type": "code",
   "execution_count": null,
   "id": "ed7ed8d8",
   "metadata": {},
   "outputs": [],
   "source": [
    "# Example for loop\n",
    "\n",
    "for i in [0,1,2,3,4,5]:\n",
    "    print(i)"
   ]
  },
  {
   "cell_type": "code",
   "execution_count": null,
   "id": "043dfc84-28f2-4998-8f56-f149025ecf0b",
   "metadata": {},
   "outputs": [],
   "source": [
    "# Another useful command here is `range` \n",
    "# which automatically gives you a list from 0 to your chosen integer minus 1\n",
    "for i in range(10):\n",
    "    print(i)"
   ]
  },
  {
   "cell_type": "code",
   "execution_count": null,
   "id": "20a29234-0f4d-49ea-bbda-1d29eb08cd19",
   "metadata": {},
   "outputs": [],
   "source": [
    "# Sometimes, when printing many items\n",
    "# I like to clarify that I would rather not do a line break\n",
    "\n",
    "for i in range(10):\n",
    "    print(i,end=' ')"
   ]
  },
  {
   "cell_type": "code",
   "execution_count": null,
   "id": "fb04a379",
   "metadata": {},
   "outputs": [],
   "source": [
    "# Example while loop\n",
    "\n",
    "i = 0\n",
    "while i < 10:\n",
    "    print(i,end=' ')\n",
    "    i += 1"
   ]
  },
  {
   "cell_type": "markdown",
   "id": "4493a67b-294b-4d5d-9cb4-c1ecaccbf9b1",
   "metadata": {},
   "source": [
    "There are a few additional statements that can help you with loops:\n",
    "\n",
    "- `break` stops the code execution and gets you out of the loop entirely\n",
    "- `continue` stops the code execution for that item and continues from the top with the next item.\n",
    "- `pass` essentially does nothing :) it is for writing an empty loop or function as a placeholder."
   ]
  },
  {
   "cell_type": "code",
   "execution_count": null,
   "id": "a7b93cf6",
   "metadata": {},
   "outputs": [],
   "source": [
    "# Example of break\n",
    "\n",
    "for i in range(10):\n",
    "    if i == 5:\n",
    "        break\n",
    "    print('i =',i)\n",
    "print('Out of loop')"
   ]
  },
  {
   "cell_type": "code",
   "execution_count": null,
   "id": "803de673",
   "metadata": {},
   "outputs": [],
   "source": [
    "# Example of continue\n",
    "\n",
    "for i in range(10):\n",
    "    if i == 5:\n",
    "        continue\n",
    "    print('i =',i)\n",
    "print('Out of loop')"
   ]
  },
  {
   "cell_type": "code",
   "execution_count": null,
   "id": "5a770a04-806c-4ecf-986f-e83a6d71d1ea",
   "metadata": {},
   "outputs": [],
   "source": [
    "# Example of pass\n",
    "\n",
    "for i in range(10):\n",
    "    if i == 5:\n",
    "        pass\n",
    "    print('i =',i)\n",
    "print('Out of loop')"
   ]
  },
  {
   "cell_type": "markdown",
   "id": "f5cdb6d5-7ed2-4895-9994-42dee977fe3d",
   "metadata": {},
   "source": [
    "Questions:\n",
    "\n",
    "1) Take the dictionary from Notebook #3 (or write your own). Write a loop that iterates through all the keys of the dictionary and prints the output from each.\n",
    "\n",
    "2) *Challenge*: Define a list of random integers (you can use the below as an example if you like). Write a loop to sort the list into ascending order programatically. You may already know that you can do this easily with `l.sort()` but try to do it on your own. Afterward, watch [this video](https://www.youtube.com/watch?v=qk7b4-iyCJ4&ab_channel=Kite) about sorting algorithms."
   ]
  },
  {
   "cell_type": "code",
   "execution_count": null,
   "id": "95f53e0e-c83e-4034-b85d-52fe43939576",
   "metadata": {},
   "outputs": [],
   "source": [
    "l = [73, 50, 88, 15, 83, 35, 74,  4, 29,  2, 29, 11, 75, 53, 33, 98, 11,\n",
    "23, 38, 57, 94, 15, 11, 12, 89, 86, 34, 16, 43, 28, 43, 68, 63, 60,\n",
    "26,  4, 43, 99, 31, 62, 33, 49, 45, 50,  5, 22, 89, 20, 68, 75, 37,\n",
    "80, 77, 18, 53,  9, 44, 82, 84, 21, 62,  8,  9, 82, 46, 31, 50, 98,\n",
    "54, 58, 52, 53, 86, 89, 90, 84, 15, 44, 55, 30, 15, 73, 79, 55, 80,\n",
    "41, 24, 41, 54, 51, 43, 25, 21, 66, 98, 42, 22, 30, 92, 67]"
   ]
  }
 ],
 "metadata": {
  "kernelspec": {
   "display_name": "Python 3",
   "language": "python",
   "name": "python3"
  },
  "language_info": {
   "codemirror_mode": {
    "name": "ipython",
    "version": 3
   },
   "file_extension": ".py",
   "mimetype": "text/x-python",
   "name": "python",
   "nbconvert_exporter": "python",
   "pygments_lexer": "ipython3",
   "version": "3.8.8"
  }
 },
 "nbformat": 4,
 "nbformat_minor": 5
}
