{
 "cells": [
  {
   "cell_type": "markdown",
   "id": "c520d590-dc7e-4ad5-ba71-88d323519dba",
   "metadata": {},
   "source": [
    "# Jupyter Lab: Your new favorite work environment\n",
    "\n",
    "One of our goals this summer is to create a shared set of tools so you are all at least familiar enough with *how* eachother are working and can help eachother out with nagging programming stressors. Enter **Jupyter Lab**, the IDE that any scientist could fall in love with. Everything that you need is here, just have a look around. \n",
    "\n",
    "If you like video tutorials, have a look [here](https://www.youtube.com/watch?v=A5YyoCKxEOU&ab_channel=Jupyter%2FIPython)."
   ]
  },
  {
   "cell_type": "markdown",
   "id": "84e4b25a-14fe-4864-bbe7-9a4396c3bfed",
   "metadata": {},
   "source": [
    "Gaining familiarity with this environment:\n",
    "- Open a .txt file from the sidebar on the left.\n",
    "- Open a delimited .csv file from the sidebar on the left. This should be tabulated automatically.\n",
    "- Open the 'README.md' file which is in the base directory of this repository. Try rendering the markdown text so that it is formatted nicely by right clicking for `Show Markdown Preview`.\n",
    "- Open an image from the sidebar on the left. Try resizing the image with `-` and `=` or rotating the image with `[` and `]`.\n",
    "- Arrange the windows into an environment that works well for you."
   ]
  },
  {
   "cell_type": "markdown",
   "id": "11ad4abc-07e9-4c6a-8a92-412e3d7863c7",
   "metadata": {},
   "source": [
    "What is a Jupyter Notebook??\n",
    "\n",
    "I **Love** Jupyter Notebooks, you probably would have sensed that by now. The key innovation here over a standard .py file is the distinction of separate cells and the seamless integration of markdown cells with code cells. Figures are plotted in line so that your workflow is continuous. I treat these as 'digital scratch paper' for thinking and working. If you choose to, I believe that 100% of your programming work this summer can be done within Jupyter Notebooks.\n",
    "\n",
    "Trying out the notebook:\n",
    "- Enter one of these 'Markdown' cells by pressing `Enter` when it is selected.\n",
    "- Edit the Markdown text and then rerender by executing the cell (shortcut `Shift+Enter` or `Ctrl+Enter`.\n",
    "- Toggle between 'Edit Mode' and 'Command Mode' with `Esc` and `Enter`.\n",
    "- When in 'Command Mode', move between cells with the arrow keys or with 'vim-style' commands like `k` for up and `j` for down.\n",
    "- Create a new cell below the currently selected with `a`.\n",
    "- The new cell will default to 'Code-type' but you can change its type to 'Markdown' with `m` or back to code with `y`\n",
    "- Copy a cell's contents with `c` and paste to a new cell with `v`. Cut with `x`. Undo with `z` or redo with `Shift+z`\n",
    "- Delete a cell with `dd`"
   ]
  },
  {
   "cell_type": "code",
   "execution_count": null,
   "id": "a40f02df-d6a8-434e-876c-0f3c9a792e1a",
   "metadata": {},
   "outputs": [],
   "source": [
    "# This is a code cell, we will learn more about these in the next Notebook."
   ]
  },
  {
   "cell_type": "markdown",
   "id": "d03c3d0e-154a-41da-ae9f-c59289672ef2",
   "metadata": {},
   "source": [
    "This is a Markdown cell."
   ]
  }
 ],
 "metadata": {
  "kernelspec": {
   "display_name": "Python 3",
   "language": "python",
   "name": "python3"
  },
  "language_info": {
   "codemirror_mode": {
    "name": "ipython",
    "version": 3
   },
   "file_extension": ".py",
   "mimetype": "text/x-python",
   "name": "python",
   "nbconvert_exporter": "python",
   "pygments_lexer": "ipython3",
   "version": "3.8.8"
  }
 },
 "nbformat": 4,
 "nbformat_minor": 5
}
