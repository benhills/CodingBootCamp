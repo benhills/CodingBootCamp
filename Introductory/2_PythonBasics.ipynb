{
 "cells": [
  {
   "cell_type": "markdown",
   "id": "df6a9d87",
   "metadata": {},
   "source": [
    "## Hello World!!\n",
    "\n",
    "Let's start coding."
   ]
  },
  {
   "cell_type": "code",
   "execution_count": null,
   "id": "fe36ce66",
   "metadata": {},
   "outputs": [],
   "source": [
    "# This is a code cell \n",
    "# Write code comments, which are not executed, using `#` as I am doing here\n",
    "\n",
    "# The first exercise in any new programming language is to \n",
    "# bring the computer to life with a  'Hello World!'\n",
    "# Try executing this cell with `Shift+Enter` or 'Ctrl+Enter'\n",
    "print('Hello World!')"
   ]
  },
  {
   "cell_type": "markdown",
   "id": "cb70dbe4-ce6b-42bd-990a-c224eb9b3fa0",
   "metadata": {},
   "source": [
    "The print command takes a 'string' as input, defined with either the single quotes `'` as above or with double quotes `\"`, there is no difference. Try changing the string to something new and making sure that the code cell still runs."
   ]
  },
  {
   "cell_type": "code",
   "execution_count": null,
   "id": "b9d72df9",
   "metadata": {},
   "outputs": [],
   "source": [
    "# Now we want to save the string as a variable, then print it.\n",
    "\n",
    "f = 'string'\n",
    "\n",
    "print(f)"
   ]
  },
  {
   "cell_type": "code",
   "execution_count": null,
   "id": "a0d28da6-2ee1-4f7f-ada7-340c9e3e84f6",
   "metadata": {},
   "outputs": [],
   "source": [
    "# Or with a multi-line string\n",
    "\n",
    "g = \"\"\"long string which can \n",
    "occupy multiple lines\"\"\"\n",
    "\n",
    "print(g)"
   ]
  },
  {
   "cell_type": "markdown",
   "id": "41a00651-8a6d-4106-8e64-c7c65f86f70a",
   "metadata": {},
   "source": [
    "Try adding a new cell which prints the variables saved above (without redefining them). You will notice that the variables carry between cells! Each executable cell sends the written code to your Python 'kernel' running in the background. This kernel stays live until you choose to reset it (or sometimes it crashes...). "
   ]
  },
  {
   "cell_type": "markdown",
   "id": "d17b4101",
   "metadata": {},
   "source": [
    "# Simple algebraic operators\n",
    "\n",
    "You can use python as a glorified calculator if you choose. Try some of these commands to gain familiarity with how each of them behave.\n",
    "\n",
    "These are the standard which you are familiar with:\n",
    "\n",
    "\\+ add\n",
    "\n",
    "\\- subtract\n",
    "\n",
    "\\* multiply\n",
    "\n",
    "\\/ divide\n",
    "\n",
    "\\** exponent\n",
    "\n",
    "These are examples of what is less standard:\n",
    "\n",
    "\\% modulo\n",
    "\n",
    "\\// integer divide\n",
    "\n",
    "Try them all out and ask questions if you have any. You may find that behavior changes depending on whether you include a decimal or not. That is, `1.0` is not the same as `1`. This is an important distinction between floating-point numbers and integers. We get into it more in the next notebook."
   ]
  },
  {
   "cell_type": "code",
   "execution_count": null,
   "id": "263ac5a8",
   "metadata": {},
   "outputs": [],
   "source": [
    "# Try some algebra"
   ]
  },
  {
   "cell_type": "markdown",
   "id": "96fdfa13-adb7-48fb-9736-2a3135a2a9a7",
   "metadata": {},
   "source": [
    "You can execute algebraic operations on variables as well,\n",
    "```\n",
    "a = 2\n",
    "b = 2\n",
    "c = a + b\n",
    "```\n",
    "or even redefine the variable based on some algebra,\n",
    "```\n",
    "a = a + 2\n",
    "```\n",
    "which has a shorthand,\n",
    "```\n",
    "a += 2\n",
    "```"
   ]
  }
 ],
 "metadata": {
  "kernelspec": {
   "display_name": "Python 3",
   "language": "python",
   "name": "python3"
  },
  "language_info": {
   "codemirror_mode": {
    "name": "ipython",
    "version": 3
   },
   "file_extension": ".py",
   "mimetype": "text/x-python",
   "name": "python",
   "nbconvert_exporter": "python",
   "pygments_lexer": "ipython3",
   "version": "3.8.8"
  }
 },
 "nbformat": 4,
 "nbformat_minor": 5
}
