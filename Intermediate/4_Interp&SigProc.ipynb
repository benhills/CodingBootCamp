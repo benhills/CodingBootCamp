{
 "cells": [
  {
   "cell_type": "markdown",
   "id": "634a5fe4-d24a-4746-80f3-895df5981ffa",
   "metadata": {},
   "source": [
    "# Interpolation and Signal Processing\n",
    "\n",
    "Real data are always a mess. You will commonly want to 'massage' the data into something more workable for your usecase. Here, we investigate a few tools to do that with."
   ]
  },
  {
   "cell_type": "code",
   "execution_count": null,
   "id": "9fc53f6a-1335-4164-a4b1-210eb8ae5983",
   "metadata": {},
   "outputs": [],
   "source": [
    "# As always import numpy and matplotlib first\n",
    "import numpy as np\n",
    "import matplotlib.pyplot as plt\n",
    "%matplotlib inline"
   ]
  },
  {
   "cell_type": "code",
   "execution_count": null,
   "id": "d6a4eb4f-38e8-4d8b-ae4d-482c6f441d01",
   "metadata": {},
   "outputs": [],
   "source": [
    "# Import an interpolation submodule from Scientific Python (scipy)\n",
    "from scipy import interpolate"
   ]
  },
  {
   "cell_type": "code",
   "execution_count": null,
   "id": "c4b7e24d-3367-43e0-b6bf-0d436942cca5",
   "metadata": {},
   "outputs": [],
   "source": [
    "# Again, define a sine wave, this time very sparse\n",
    "a = np.arange(0,101,20)\n",
    "s = np.sin(a*2.*np.pi/100)\n",
    "\n",
    "# Plot it as points\n",
    "plt.figure()\n",
    "plt.plot(a,s,'k.')"
   ]
  },
  {
   "cell_type": "code",
   "execution_count": null,
   "id": "2e3fcbd4-be26-4e10-9311-16c40b2ac4bb",
   "metadata": {},
   "outputs": [],
   "source": [
    "# Use a 1-d interpolator to interpolate between the points\n",
    "s_interp = interpolate.interp1d(a,s)\n",
    "a_fine = np.arange(0,101,1)\n",
    "s_linear = s_interp(a_fine)\n",
    "\n",
    "# Plot the original and the interpolated line\n",
    "plt.figure()\n",
    "plt.plot(a,s,'k.')\n",
    "plt.plot(a_fine,s_linear,'b-')"
   ]
  },
  {
   "cell_type": "code",
   "execution_count": null,
   "id": "b8cd5941-42ac-4737-a6c5-346ed09c38d4",
   "metadata": {},
   "outputs": [],
   "source": [
    "# The interp1d function takes several different options for 'kinds' of interpolation\n",
    "\n",
    "# Replot the one from the last cell\n",
    "plt.figure()\n",
    "plt.plot(a,s,'k.')\n",
    "plt.plot(a_fine,s_linear,'b-',label='linear')\n",
    "\n",
    "# Interpolate by 'nearest neighbor' and plot\n",
    "s_interp = interpolate.interp1d(a,s,kind='nearest')\n",
    "s_nearest = s_interp(a_fine)\n",
    "plt.plot(a_fine,s_nearest,'g-',label='nearest')\n",
    "\n",
    "# Interpolate by 'cubic spline' and plot\n",
    "s_interp = interpolate.interp1d(a,s,kind='cubic')\n",
    "s_cubic = s_interp(a_fine)\n",
    "plt.plot(a_fine,s_cubic,'m-',label='cubic')\n",
    "\n",
    "# label the lines with a legend\n",
    "plt.legend()"
   ]
  },
  {
   "cell_type": "markdown",
   "id": "f5238602-5be3-4cf5-97e7-732384f6a43e",
   "metadata": {},
   "source": [
    "## Questions\n",
    "\n",
    "1) Discuss the different types of interpolation above. Try to think of an example where you would want to use one or another.\n",
    "\n",
    "2) Load the data file and interpolate onto a daily time step."
   ]
  },
  {
   "cell_type": "code",
   "execution_count": null,
   "id": "a613faa3-f893-4afa-adb9-61b891f608f5",
   "metadata": {},
   "outputs": [],
   "source": [
    "# Now we want to filter a dataset to pull a signal out of noise.\n",
    "\n",
    "# Create the sine wave again\n",
    "a = np.arange(0,201)\n",
    "s = np.sin(a*2.*np.pi/200)\n",
    "# Create a noise array and add it to the sine wave\n",
    "n = 2.*np.random.rand(len(a))-1.\n",
    "s_noisy = s + n\n",
    "\n",
    "# Plot the original array and the noisy one\n",
    "plt.figure()\n",
    "plt.plot(a,s,'k')\n",
    "plt.plot(a,s_noisy,'r.')"
   ]
  },
  {
   "cell_type": "code",
   "execution_count": null,
   "id": "1c8af702-be61-4fbe-83a8-ebd81e420045",
   "metadata": {},
   "outputs": [],
   "source": [
    "# Again, we are going to use scipy for filtering\n",
    "# Here, a submodule called signal is useful for 'signal processing'\n",
    "from scipy import signal\n",
    "\n",
    "# First, we are going to try a median filter on the noisy dataset \n",
    "# Try adjusting the window size, N, to see how that cleans it up\n",
    "N = 21\n",
    "s_filt = signal.medfilt(s_noisy,N)\n",
    "\n",
    "# Plot the original, noisy, and filtered\n",
    "plt.figure()\n",
    "plt.plot(a,s,'k')\n",
    "plt.plot(a,s_noisy,'r.')\n",
    "plt.plot(a,s_filt,'b')"
   ]
  },
  {
   "cell_type": "code",
   "execution_count": null,
   "id": "b6d3b921-550a-49ee-a089-3e0cda45f20c",
   "metadata": {},
   "outputs": [],
   "source": [
    "# Filter with a Gaussian kernel\n",
    "\n",
    "# Create the window that will be used as a filter\n",
    "N = 21.\n",
    "mu = 5.\n",
    "g = signal.windows.gaussian(N,mu)\n",
    "\n",
    "# Plot the Gaussian kernel\n",
    "plt.figure(figsize=(8,4))\n",
    "plt.subplot(121)\n",
    "plt.plot(g)\n",
    "plt.title('Gaussian Window')\n",
    "\n",
    "# Filter with the kernel by 'convolving' it with the noisy array\n",
    "s_gauss = signal.convolve(s_noisy,g,'valid')/(np.sum(g))\n",
    "\n",
    "# Plot all the sine waves, noisy and filtered, to compare\n",
    "plt.subplot(122)\n",
    "plt.plot(a,s,'k',label='original')\n",
    "plt.plot(a,s_noisy,'r.',label='noisy')\n",
    "plt.plot(a,s_filt,'b',label='medfilt')\n",
    "plt.plot(a[len(g)//2:-len(g)//2+1],s_gauss,'c',label='gaussian')\n",
    "plt.legend()\n",
    "plt.title('Filter Results')"
   ]
  },
  {
   "cell_type": "markdown",
   "id": "55c51b8a-0a2c-4495-8aa1-c73f26bad2a2",
   "metadata": {},
   "source": [
    "## Questions\n",
    "\n",
    "1) Do a median filter on the data. Play around with the window until you get to something that you like."
   ]
  }
 ],
 "metadata": {
  "kernelspec": {
   "display_name": "Python 3",
   "language": "python",
   "name": "python3"
  },
  "language_info": {
   "codemirror_mode": {
    "name": "ipython",
    "version": 3
   },
   "file_extension": ".py",
   "mimetype": "text/x-python",
   "name": "python",
   "nbconvert_exporter": "python",
   "pygments_lexer": "ipython3",
   "version": "3.8.8"
  }
 },
 "nbformat": 4,
 "nbformat_minor": 5
}
