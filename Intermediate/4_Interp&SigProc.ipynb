{
 "cells": [
  {
   "cell_type": "markdown",
   "id": "634a5fe4-d24a-4746-80f3-895df5981ffa",
   "metadata": {},
   "source": [
    "# Interpolation and Signal Processing\n",
    "\n"
   ]
  },
  {
   "cell_type": "code",
   "execution_count": null,
   "id": "9fc53f6a-1335-4164-a4b1-210eb8ae5983",
   "metadata": {},
   "outputs": [],
   "source": [
    "from scipy import interpolate"
   ]
  },
  {
   "cell_type": "code",
   "execution_count": null,
   "id": "c4b7e24d-3367-43e0-b6bf-0d436942cca5",
   "metadata": {},
   "outputs": [],
   "source": [
    "s = np.sin"
   ]
  },
  {
   "cell_type": "markdown",
   "id": "f5238602-5be3-4cf5-97e7-732384f6a43e",
   "metadata": {},
   "source": [
    "# Questions\n",
    "\n",
    "1) "
   ]
  },
  {
   "cell_type": "code",
   "execution_count": null,
   "id": "b6d3b921-550a-49ee-a089-3e0cda45f20c",
   "metadata": {},
   "outputs": [],
   "source": [
    "from scipy import signal"
   ]
  },
  {
   "cell_type": "code",
   "execution_count": null,
   "id": "b09bc553-534b-4d9c-8bb7-67a2a7633599",
   "metadata": {},
   "outputs": [],
   "source": [
    "signal.detrend"
   ]
  },
  {
   "cell_type": "code",
   "execution_count": null,
   "id": "8e510a53-7cbb-44a9-955a-46dd7005f0be",
   "metadata": {},
   "outputs": [],
   "source": [
    "signal.correlate"
   ]
  },
  {
   "cell_type": "code",
   "execution_count": null,
   "id": "8329f6bf-dad1-411f-acec-7dfbc27d19a5",
   "metadata": {},
   "outputs": [],
   "source": [
    "signal.medfilt"
   ]
  },
  {
   "cell_type": "code",
   "execution_count": null,
   "id": "72aa6782-f5d9-4ad2-9353-6778e796ac24",
   "metadata": {},
   "outputs": [],
   "source": [
    "signal.windows.gaussian"
   ]
  },
  {
   "cell_type": "markdown",
   "id": "55c51b8a-0a2c-4495-8aa1-c73f26bad2a2",
   "metadata": {},
   "source": [
    "# Questions\n",
    "\n",
    "1) "
   ]
  }
 ],
 "metadata": {
  "kernelspec": {
   "display_name": "Python 3",
   "language": "python",
   "name": "python3"
  },
  "language_info": {
   "codemirror_mode": {
    "name": "ipython",
    "version": 3
   },
   "file_extension": ".py",
   "mimetype": "text/x-python",
   "name": "python",
   "nbconvert_exporter": "python",
   "pygments_lexer": "ipython3",
   "version": "3.8.8"
  }
 },
 "nbformat": 4,
 "nbformat_minor": 5
}
