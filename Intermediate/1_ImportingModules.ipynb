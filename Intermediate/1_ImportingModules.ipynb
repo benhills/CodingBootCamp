{
 "cells": [
  {
   "cell_type": "markdown",
   "id": "60183637-6159-4093-8502-2f124f93e33c",
   "metadata": {},
   "source": [
    "# Importing Modules\n",
    "\n",
    "In all of the introductory notebooks, we used only the base Python commands. On its own, Python is just like any other programming language, Matlab for instance. What makes Python great is that it is open source, meaning that anyone can easily create a module and add it to the vast sea of Python tools. \n",
    "\n",
    "In these intermediate notebooks we are going to explore a handful of these modules, those which I find are critical for Earth scientists to know and use. We barely scratch the surface on each of these modules, so if you find one that you think could be particularly useful to your research please take the time to eplore it more fully.\n",
    "\n",
    "# `Numpy`\n",
    "\n",
    "Numpy (Numerical Python) is one of the standard modules that I import in every notebook that I open. Its key feature is the 'numpy array' which is much more useful than the standard list for things like multi-dimensional arrays and matrix math. No matter your research, you will be using numpy arrays.\n",
    "\n",
    "Try importing numpy!"
   ]
  },
  {
   "cell_type": "code",
   "execution_count": null,
   "id": "5065ad52-b888-473e-b857-4952959c98ab",
   "metadata": {},
   "outputs": [],
   "source": [
    "import numpy\n",
    "numpy"
   ]
  },
  {
   "cell_type": "markdown",
   "id": "ad6c5241-c722-43fb-9795-9ae998201c12",
   "metadata": {},
   "source": [
    "This command searches through your computer to check whether you have installed the numpy module. This and many other modules come standard with Anaconda, so would be surprising if you don't already have it.\n",
    "\n",
    "I often choose to abbreviate certain modules so that I don't have to type out the full name each time I use it, like this:"
   ]
  },
  {
   "cell_type": "code",
   "execution_count": null,
   "id": "d28c9bd9-d7bf-4723-8fe7-f39f95dabf2d",
   "metadata": {},
   "outputs": [],
   "source": [
    "import numpy as np"
   ]
  },
  {
   "cell_type": "code",
   "execution_count": null,
   "id": "981eba68-8828-458f-8e97-22012e0143c6",
   "metadata": {},
   "outputs": [],
   "source": [
    "# Now create a numpy array!\n",
    "\n",
    "a = np.array([0,1,2,3,4,5])\n",
    "type(a)"
   ]
  },
  {
   "cell_type": "code",
   "execution_count": null,
   "id": "ed13488c-e7f4-4135-b4d9-906fb65c8a53",
   "metadata": {},
   "outputs": [],
   "source": [
    "# or a multi-dimensional array!\n",
    "\n",
    "b = np.array([[0,1,2,3,4,5],\n",
    "          [0,1,2,3,4,5]])\n",
    "\n",
    "# Print the shapes of both arrays you just created\n",
    "\n",
    "print('Shape a:',np.shape(a))\n",
    "print('Shape b:',np.shape(b))"
   ]
  },
  {
   "cell_type": "code",
   "execution_count": null,
   "id": "2a6368af-9f5c-4b15-b12d-4d28b0db3f3b",
   "metadata": {},
   "outputs": [],
   "source": [
    "# Transpose b so that it is in 2 columns and 6 rows instead\n",
    "\n",
    "b = np.transpose(b)\n",
    "\n",
    "print('Shape b:',np.shape(b))\n",
    "b"
   ]
  },
  {
   "cell_type": "markdown",
   "id": "7d65d243-6923-479d-a0af-7833fb6dc1a3",
   "metadata": {},
   "source": [
    "Numpy has a few critical functions to quickly create arrays which you will commonly use. The first is to create 'a range' of numbers with `np.arange`. As we discussed in the past, Python is 0-indexed so `arange` will span the range from your start value to your end value minus 1."
   ]
  },
  {
   "cell_type": "code",
   "execution_count": null,
   "id": "b660dd47-4c24-4144-80f2-ebbc3df3aaf0",
   "metadata": {},
   "outputs": [],
   "source": [
    "numpy.arange(0,10)"
   ]
  },
  {
   "cell_type": "markdown",
   "id": "c90a5d4f-26bf-43f4-8b79-9044e9b1d703",
   "metadata": {},
   "source": [
    "You can also create a range with a custom step, say you want a list of numbers from 0.5 to 1.5 at 0.2 step increments:"
   ]
  },
  {
   "cell_type": "code",
   "execution_count": null,
   "id": "4c82378c-c3d1-4fdb-b519-11d568e05d0b",
   "metadata": {},
   "outputs": [],
   "source": [
    "np.arange(.5,1.5,.2)"
   ]
  },
  {
   "cell_type": "markdown",
   "id": "0f7532c8-4484-47ce-b67a-315b1015ae6e",
   "metadata": {},
   "source": [
    "In a previous notebook, we wrote a custom algorithm to sort a list of integers. I actually created the list using a submodule of numpy, `np.random`. Maybe you will find it frustrating that I had you sort that list when in fact there are sophisticated algorithms predefined whithin numpy to do this insanely quickly. "
   ]
  },
  {
   "cell_type": "code",
   "execution_count": null,
   "id": "4b80aa56-e85a-40f2-8fad-730846ea4e28",
   "metadata": {},
   "outputs": [],
   "source": [
    "import numpy as np\n",
    "l = np.random.randint(0,100,100)\n",
    "\n",
    "np.sort(l)"
   ]
  },
  {
   "cell_type": "markdown",
   "id": "e6cee113-d85a-4640-9b6e-d5f7f5d51457",
   "metadata": {},
   "source": [
    "# Import a New Module"
   ]
  },
  {
   "cell_type": "markdown",
   "id": "a4c7d23e-689e-4fd8-8987-393a722638c9",
   "metadata": {},
   "source": [
    "There are a handful of standard Python modules that are used widely. As I said above though, it is very easy to contribute a new module, and drawing from someone else's contributions is easy as well. This is the strength of an open-source development community. \n",
    "\n",
    "Try installing and then loading a function from a module called [ImpDAR](https://impdar.readthedocs.io/en/latest/), a radar processing toolkit built right here in UW ESS!"
   ]
  },
  {
   "cell_type": "code",
   "execution_count": null,
   "id": "a0455ef6-2b30-4a07-81f4-8d9958b1b384",
   "metadata": {},
   "outputs": [],
   "source": [
    "!pip install impdar"
   ]
  },
  {
   "cell_type": "code",
   "execution_count": null,
   "id": "94bb8bfb-8d88-4753-b795-254a00b150ba",
   "metadata": {},
   "outputs": [],
   "source": [
    "from impdar.lib.load.load_gssi import load_gssi\n",
    "\n",
    "load_gssi?"
   ]
  },
  {
   "cell_type": "markdown",
   "id": "2383826e-2c41-412e-a661-f1339d74fe13",
   "metadata": {},
   "source": [
    "## Questions:\n",
    "\n",
    "1) Use `np.load()` to load the data file at ./data/data.npy. You might need to query the function with the `?` to learn how it works. Inspect the shape of the array you loaded. Try pulling out a pair of points at a certain index and saving them as a tuple. We will use this dataset throughout the remainder of the intermediate notebooks, so start saving your work on it in the empty notebook at ./DatasetAnswers.ipynb.\n",
    "\n",
    "2) Find a new Python module on the internet. Find one relevant to your research if you can! or a random one is fine if you can't find anything useful quickly. Import it here with `!pip install [your_module]`, then try exploring it and using it if it is simple enough.\n",
    "\n",
    "3) *Challenge*: Try writing your own module in an external .py file. (*Hint*: the file must begin with '#!/usr/bin/env python3'). Write a function inside that file and call it from this notebook.\n",
    "\n",
    "4) *Challenge*: Bring your sorting algorithm into this notebook and time how long it takes to sort a random list. Compare this sorting time to that of `np.sort()`. (*Hint*: Use the `time` module to start/stop a clock for the sorting algorithm)."
   ]
  }
 ],
 "metadata": {
  "kernelspec": {
   "display_name": "Python 3",
   "language": "python",
   "name": "python3"
  },
  "language_info": {
   "codemirror_mode": {
    "name": "ipython",
    "version": 3
   },
   "file_extension": ".py",
   "mimetype": "text/x-python",
   "name": "python",
   "nbconvert_exporter": "python",
   "pygments_lexer": "ipython3",
   "version": "3.8.8"
  }
 },
 "nbformat": 4,
 "nbformat_minor": 5
}
