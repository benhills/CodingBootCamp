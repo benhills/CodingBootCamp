{
 "cells": [
  {
   "cell_type": "markdown",
   "id": "60183637-6159-4093-8502-2f124f93e33c",
   "metadata": {},
   "source": [
    "# Importing Modules\n",
    "\n",
    "In this notebook, we are going to focus on a single module in particular but then explain how to import additional modules (even custom modules) "
   ]
  },
  {
   "cell_type": "code",
   "execution_count": null,
   "id": "5065ad52-b888-473e-b857-4952959c98ab",
   "metadata": {},
   "outputs": [],
   "source": [
    "import numpy\n",
    "numpy"
   ]
  },
  {
   "cell_type": "code",
   "execution_count": null,
   "id": "981eba68-8828-458f-8e97-22012e0143c6",
   "metadata": {},
   "outputs": [],
   "source": [
    "a = np.array([0,1,2,3,4,5])\n",
    "type(a)"
   ]
  },
  {
   "cell_type": "code",
   "execution_count": null,
   "id": "ed13488c-e7f4-4135-b4d9-906fb65c8a53",
   "metadata": {},
   "outputs": [],
   "source": [
    "a = np.array([[0,1,2,3,4,5],\n",
    "          [0,1,2,3,4,5]])\n",
    "\n",
    "np.shape(a)"
   ]
  },
  {
   "cell_type": "code",
   "execution_count": null,
   "id": "2a6368af-9f5c-4b15-b12d-4d28b0db3f3b",
   "metadata": {},
   "outputs": [],
   "source": [
    "np.transpose(a)"
   ]
  },
  {
   "cell_type": "code",
   "execution_count": null,
   "id": "b660dd47-4c24-4144-80f2-ebbc3df3aaf0",
   "metadata": {},
   "outputs": [],
   "source": [
    "numpy.arange(10)"
   ]
  },
  {
   "cell_type": "code",
   "execution_count": null,
   "id": "4b80aa56-e85a-40f2-8fad-730846ea4e28",
   "metadata": {},
   "outputs": [],
   "source": [
    "import numpy as np\n",
    "l = np.random.randint(0,100,100)"
   ]
  },
  {
   "cell_type": "code",
   "execution_count": null,
   "id": "3b036176-606a-4b07-9128-4936d17a4e19",
   "metadata": {},
   "outputs": [],
   "source": [
    "np.sort(l)"
   ]
  },
  {
   "cell_type": "code",
   "execution_count": null,
   "id": "a0455ef6-2b30-4a07-81f4-8d9958b1b384",
   "metadata": {},
   "outputs": [],
   "source": [
    "!pip install impdar"
   ]
  },
  {
   "cell_type": "code",
   "execution_count": null,
   "id": "94bb8bfb-8d88-4753-b795-254a00b150ba",
   "metadata": {},
   "outputs": [],
   "source": [
    "from impdar.lib.load.load_gssi import load_gssi\n",
    "\n",
    "load_gssi?"
   ]
  },
  {
   "cell_type": "markdown",
   "id": "2383826e-2c41-412e-a661-f1339d74fe13",
   "metadata": {},
   "source": [
    "# Questions:\n",
    "\n",
    "1) Use `np.load()` to load the data file at ./data/data.npy. You might need to query the function with the `?` to learn how it works. Inspect the shape of the array you loaded. Try pulling out a pair of points at a certain index and saving them as a tuple.\n",
    "\n",
    "2) Find a new Python module on the internet. Find one relevant to your research if you can! or a random one is fine if you can't find anything useful quickly. Import it here with `!pip install [your_module]`, then try exploring it and using it if it is simple enough.\n",
    "\n",
    "3) *Challenge*: Try writing your own module in an external .py file. (*Hint*: the file must begin with '#!/usr/bin/env python3')"
   ]
  }
 ],
 "metadata": {
  "kernelspec": {
   "display_name": "Python 3",
   "language": "python",
   "name": "python3"
  },
  "language_info": {
   "codemirror_mode": {
    "name": "ipython",
    "version": 3
   },
   "file_extension": ".py",
   "mimetype": "text/x-python",
   "name": "python",
   "nbconvert_exporter": "python",
   "pygments_lexer": "ipython3",
   "version": "3.8.8"
  }
 },
 "nbformat": 4,
 "nbformat_minor": 5
}
