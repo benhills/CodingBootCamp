{
 "cells": [
  {
   "cell_type": "markdown",
   "id": "ccdd3219-22c9-408d-9269-a861b0d3762e",
   "metadata": {},
   "source": [
    "# Data Science\n",
    "\n",
    "What the heck is data science? "
   ]
  },
  {
   "cell_type": "code",
   "execution_count": null,
   "id": "1b6489b0-46f2-464c-8889-c07a03efbfed",
   "metadata": {},
   "outputs": [],
   "source": [
    "import pandas"
   ]
  },
  {
   "cell_type": "markdown",
   "id": "57d3997b-e3de-43cb-bdd8-08b1bc943770",
   "metadata": {},
   "source": [
    "dataframes"
   ]
  },
  {
   "cell_type": "code",
   "execution_count": null,
   "id": "27f19fb9-3927-476a-8b0d-b6d9dbbf61d2",
   "metadata": {},
   "outputs": [],
   "source": [
    "import sklearn\n",
    "\n",
    "#regression"
   ]
  },
  {
   "cell_type": "markdown",
   "id": "4229c0cc-d7a5-4ebf-9790-bcc935307182",
   "metadata": {},
   "source": [
    "# Questions\n",
    "\n",
    "1) The data set that we have been working with are the global land and ocean temperature anomalies from [NOAA](https://www.ncdc.noaa.gov/cag/global/time-series/globe/land_ocean/all/1/1880-2022). Load the dataset with the header at ./data/data_with_header.csv, this time as a Pandas dataframe. Look at the header of the file."
   ]
  }
 ],
 "metadata": {
  "kernelspec": {
   "display_name": "Python 3",
   "language": "python",
   "name": "python3"
  },
  "language_info": {
   "codemirror_mode": {
    "name": "ipython",
    "version": 3
   },
   "file_extension": ".py",
   "mimetype": "text/x-python",
   "name": "python",
   "nbconvert_exporter": "python",
   "pygments_lexer": "ipython3",
   "version": "3.8.8"
  }
 },
 "nbformat": 4,
 "nbformat_minor": 5
}
