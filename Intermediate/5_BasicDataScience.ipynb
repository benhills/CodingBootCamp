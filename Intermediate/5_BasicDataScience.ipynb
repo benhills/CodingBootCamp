{
 "cells": [
  {
   "cell_type": "markdown",
   "id": "ccdd3219-22c9-408d-9269-a861b0d3762e",
   "metadata": {},
   "source": [
    "# Data Science\n",
    "\n",
    "What the heck is data science? I consider this a bit of a buzz word, a pervasive one but still vague in the precise definition. In the context of our bootcamp, we will consider the 'data science' modules `pandas` for loading datasets into a convenient format called a dataframe, and `sklearn` for regression."
   ]
  },
  {
   "cell_type": "code",
   "execution_count": null,
   "id": "2b176f6f-b97a-4b00-9806-7ae6fab0b705",
   "metadata": {},
   "outputs": [],
   "source": [
    "import numpy as np\n",
    "import matplotlib.pyplot as plt\n",
    "%matplotlib inline"
   ]
  },
  {
   "cell_type": "code",
   "execution_count": null,
   "id": "1b6489b0-46f2-464c-8889-c07a03efbfed",
   "metadata": {},
   "outputs": [],
   "source": [
    "# I like to import as pd\n",
    "import pandas as pd"
   ]
  },
  {
   "cell_type": "code",
   "execution_count": null,
   "id": "74b4dc48-7ebe-4e84-bfef-8bfcef353c4d",
   "metadata": {},
   "outputs": [],
   "source": [
    "# Load an example dataset as a dataframe\n",
    "df = pd.read_csv('./data/example_dataframe.csv',index_col=0)"
   ]
  },
  {
   "cell_type": "code",
   "execution_count": null,
   "id": "4d0b4a4e-9323-432d-971e-64ffbf9501b6",
   "metadata": {},
   "outputs": [],
   "source": [
    "# Display the dataframe \n",
    "df.columns"
   ]
  },
  {
   "cell_type": "code",
   "execution_count": null,
   "id": "049eb46c-38fa-4f3b-ba56-bdcc0d24786b",
   "metadata": {},
   "outputs": [],
   "source": [
    "# Display the index array (all the different )\n",
    "df.index"
   ]
  },
  {
   "cell_type": "code",
   "execution_count": null,
   "id": "86aa30b1-157f-40de-a544-4be564658b87",
   "metadata": {},
   "outputs": [],
   "source": [
    "# Index the dataframe like a dictionary\n",
    "df.loc['CHN']"
   ]
  },
  {
   "cell_type": "code",
   "execution_count": null,
   "id": "7f7714e8-ce6d-4be1-8deb-36ad68708ed9",
   "metadata": {},
   "outputs": [],
   "source": [
    "df.loc['CHN']['POP']"
   ]
  },
  {
   "cell_type": "code",
   "execution_count": null,
   "id": "32c35f2c-02a1-40f4-9931-09d5238b7af1",
   "metadata": {},
   "outputs": [],
   "source": [
    "df['POP']['CHN']"
   ]
  },
  {
   "cell_type": "markdown",
   "id": "a4b21ace-8629-48de-ad79-0a8b1b12b557",
   "metadata": {},
   "source": [
    "Now we want to use linear regression to build a prediction model with these data. This type of modeling is commonly referred to as 'machine learning', this being on the simplest end for types of models used."
   ]
  },
  {
   "cell_type": "code",
   "execution_count": null,
   "id": "27f19fb9-3927-476a-8b0d-b6d9dbbf61d2",
   "metadata": {},
   "outputs": [],
   "source": [
    "from sklearn.linear_model import LinearRegression\n",
    "\n",
    "pop = df['POP'].values\n",
    "area = df['AREA'].values.reshape(-1,1)\n",
    "model = LinearRegression().fit(area,pop)\n",
    "\n",
    "areafit = np.linspace(0, 20000, 1000).reshape(-1,1)\n",
    "popfit = model.predict(areafit)\n",
    "\n",
    "plt.figure()\n",
    "plt.plot(area,pop,'k.')\n",
    "plt.plot(areafit,popfit,'r')"
   ]
  },
  {
   "cell_type": "markdown",
   "id": "9ffa9d63-633f-4834-bbca-3a31953723f7",
   "metadata": {},
   "source": [
    "To be honest, this is a terrible model for this particular dataset, but you could play around with the different columns to determine which variables are most correlated and perhaps develop a more sophisticated model here."
   ]
  },
  {
   "cell_type": "markdown",
   "id": "4229c0cc-d7a5-4ebf-9790-bcc935307182",
   "metadata": {},
   "source": [
    "## Questions\n",
    "\n",
    "1) The data set that we have been working with are the global land and ocean temperature anomalies from [NOAA](https://www.ncdc.noaa.gov/cag/global/time-series/globe/land_ocean/all/1/1880-2022). Load the dataset with the header at ./data/dataset_with_header.csv, this time as a Pandas dataframe. Look at the header of the file. As always, this work should be done in DatasetAnswers.ipynb.\n",
    "\n",
    "    a) Extrapolate these data forward to year 2100 using linear regression. What is your modeled temperature? Is this within the IPCC target of 1.5$^\\circ$C outlined in the Paris Agreement? \n",
    "    \n",
    "    b) Is linear regression appropriate here? Think about using some of the tools that you learned in prior notebooks to do preprocessing before regressing the raw data. For example, sort by month so that you can pull out the seasonality of the dataset, or do a median filter to quiet some of the noise (or both?). "
   ]
  }
 ],
 "metadata": {
  "kernelspec": {
   "display_name": "Python 3",
   "language": "python",
   "name": "python3"
  },
  "language_info": {
   "codemirror_mode": {
    "name": "ipython",
    "version": 3
   },
   "file_extension": ".py",
   "mimetype": "text/x-python",
   "name": "python",
   "nbconvert_exporter": "python",
   "pygments_lexer": "ipython3",
   "version": "3.8.8"
  }
 },
 "nbformat": 4,
 "nbformat_minor": 5
}
