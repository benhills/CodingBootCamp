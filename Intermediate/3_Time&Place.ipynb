{
 "cells": [
  {
   "cell_type": "markdown",
   "id": "00a5b6b5-175a-4ce0-a408-0859b727e9f9",
   "metadata": {},
   "source": [
    "# Time and Place\n",
    "\n",
    "As an Earth scientist, you will commonly be thinking about when and where something happened. Below we explore two modules which make it a lot easier to work with many varying types of time and place data."
   ]
  },
  {
   "cell_type": "code",
   "execution_count": null,
   "id": "179b8e6f-89d5-43a6-81b5-cf914c220a5b",
   "metadata": {},
   "outputs": [],
   "source": [
    "# This should be included in every notebook from now on\n",
    "import numpy as np\n",
    "import matplotlib.pyplot as plt\n",
    "# You can plot inline or as an interactive 'notebook' type if you like\n",
    "%matplotlib inline"
   ]
  },
  {
   "cell_type": "markdown",
   "id": "7cf6de6f-4255-44f8-a0f0-5ed58ffe964e",
   "metadata": {},
   "source": [
    "# `Datetime`\n",
    "\n",
    "Timestamps are often loaded from .txt or .csv files in complicated ways, as strings or as separate columns for year, month, day, etc. Datetime makes it easy to normalize timestamps into their default type the 'datetime' object. This type plays nice with matplotlib, etc. as well."
   ]
  },
  {
   "cell_type": "code",
   "execution_count": null,
   "id": "f360000c-13e6-48c9-91e3-8ccbf1e64469",
   "metadata": {},
   "outputs": [],
   "source": [
    "# I like to import as dt\n",
    "from datetime import datetime as dt"
   ]
  },
  {
   "cell_type": "code",
   "execution_count": null,
   "id": "45364404-4e33-43b9-8b7d-49f5674466b2",
   "metadata": {},
   "outputs": [],
   "source": [
    "now = dt.now()\n",
    "\n",
    "year = now.strftime(\"%Y\")\n",
    "print(\"year:\", year)\n",
    "\n",
    "month = now.strftime(\"%m\")\n",
    "print(\"month:\", month)\n",
    "\n",
    "day = now.strftime(\"%d\")\n",
    "print(\"day:\", day)\n",
    "\n",
    "time = now.strftime(\"%H:%M:%S\")\n",
    "print(\"time:\", time)\n",
    "\n",
    "date_time = now.strftime(\"%m/%d/%Y, %H:%M:%S\")\n",
    "print(\"date and time:\",date_time)"
   ]
  },
  {
   "cell_type": "code",
   "execution_count": null,
   "id": "bd0f9388-2872-457c-b9d1-c0ced87c2c6b",
   "metadata": {},
   "outputs": [],
   "source": [
    "# I often use the ordinal day which is today's date \n",
    "# as an integer number of days since Jan 1 0000\n",
    "now.toordinal()"
   ]
  },
  {
   "cell_type": "code",
   "execution_count": null,
   "id": "393a1d9f-eb71-4e40-9a3d-70295f785fe9",
   "metadata": {},
   "outputs": [],
   "source": [
    "# Make a range of days from today to one year from now\n",
    "day1 = now.toordinal()\n",
    "day2 = day1 + 365\n",
    "days = np.arange(day1,day2)\n",
    "\n",
    "# Convert each one of the days in the array back to a datetime object\n",
    "dts = np.array([dt.fromordinal(d) for d in days])\n",
    "\n",
    "# Plot datetime array against ordinal days\n",
    "plt.figure()\n",
    "plt.plot(dts,days)"
   ]
  },
  {
   "cell_type": "markdown",
   "id": "cd8b77c0-e64b-4226-a72d-870031fe56a5",
   "metadata": {},
   "source": [
    "## Questions\n",
    "\n",
    "1) Load data.npy again (do this work in DatasetAnswers.ipynb). This time look a lot closer at the first column. Since we have been talking about time you may have a better idea of what this column is (*Hint*: it was exported in a rather weird format, so if it *seems* weird you are probably correct). \n",
    "\n",
    "    a) Convert the first column to a datetime object.\n",
    "    \n",
    "    b) Plot the the two columns, with the times on the x axis and the second column on the y-axis. Any guesses what the second column is?\n",
    "\n",
    "4) *Challenge*: Separate the datetime array into twelve smaller arrays, one for each month. Index column 2 in the same way so that you now have twelve time vectors and twelve corresponding vectors taken from column 2. "
   ]
  },
  {
   "cell_type": "markdown",
   "id": "743f961d-68d8-4994-9f7d-dd4421cafc29",
   "metadata": {},
   "source": [
    "# `Pyproj`\n",
    "\n",
    "Location data will either be saved as lat/long or as x/y in some projection. Pyproj makes it easy to convert back and forth for any projection. All you need to know is the EPSG for the projection. Two that you will be using commonly if you are thinking about polar regions are north polar stereographic (epsg:) and south polar stereographic (epsg:3031)."
   ]
  },
  {
   "cell_type": "code",
   "execution_count": null,
   "id": "6c80059d-114e-4636-a37d-0c93a7279cd6",
   "metadata": {},
   "outputs": [],
   "source": [
    "# Import and create a transform for south polar stereographic\n",
    "import pyproj\n",
    "proj_stere = pyproj.Proj('epsg:3031')"
   ]
  },
  {
   "cell_type": "code",
   "execution_count": null,
   "id": "101fa2b6-923e-4101-ac01-e14977b7292a",
   "metadata": {},
   "outputs": [],
   "source": [
    "# Take a point at the South Pole\n",
    "lon, lat = 0., -90.\n",
    "\n",
    "# Use the transform to convert this point to x/y coordinates\n",
    "x,y = proj_stere(lon,lat)\n",
    "# Print the output\n",
    "print('x,y:',x,y)"
   ]
  },
  {
   "cell_type": "code",
   "execution_count": null,
   "id": "8479d886-98ff-4d4d-a9b2-984441aece76",
   "metadata": {},
   "outputs": [],
   "source": [
    "# Print the output of the inverse transform\n",
    "# Make sure it gets what you originally put in\n",
    "print('lon,lat:',proj_stere(x,y,inverse=True))"
   ]
  },
  {
   "cell_type": "markdown",
   "id": "a32eccce-ed88-45e0-a2fe-9f9a5eaace6e",
   "metadata": {},
   "source": [
    "## Questions:\n",
    "\n",
    "1) Load two numpy arrays from the data directory:\n",
    "    - ./data/coast.npy\n",
    "    - ./data/grounding_line.npy\n",
    "    \n",
    "2) Plot the data as they are. You may need to use a different marker than the standard line '-', try:\n",
    "\n",
    "    `plt.plot(coast[:,0],coast[:,1],'.')`\n",
    "\n",
    "3) If you hadn't noticed, these are latitude/longitude data. Convert them to Polar Stereographic x/y and replot to see if you can recognize the shape better."
   ]
  }
 ],
 "metadata": {
  "kernelspec": {
   "display_name": "Python 3",
   "language": "python",
   "name": "python3"
  },
  "language_info": {
   "codemirror_mode": {
    "name": "ipython",
    "version": 3
   },
   "file_extension": ".py",
   "mimetype": "text/x-python",
   "name": "python",
   "nbconvert_exporter": "python",
   "pygments_lexer": "ipython3",
   "version": "3.8.8"
  }
 },
 "nbformat": 4,
 "nbformat_minor": 5
}
