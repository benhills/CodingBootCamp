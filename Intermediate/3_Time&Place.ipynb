{
 "cells": [
  {
   "cell_type": "markdown",
   "id": "00a5b6b5-175a-4ce0-a408-0859b727e9f9",
   "metadata": {},
   "source": [
    "# Time and Place\n",
    "\n",
    "As an Earth scientist, you will commonly be thinking about when and where something happened. "
   ]
  },
  {
   "cell_type": "code",
   "execution_count": null,
   "id": "179b8e6f-89d5-43a6-81b5-cf914c220a5b",
   "metadata": {},
   "outputs": [],
   "source": [
    "import numpy as np\n",
    "import matplotlib.pyplot as plt\n",
    "%matplotlib inline"
   ]
  },
  {
   "cell_type": "code",
   "execution_count": null,
   "id": "f360000c-13e6-48c9-91e3-8ccbf1e64469",
   "metadata": {},
   "outputs": [],
   "source": [
    "from datetime import datetime as dt\n",
    "from datetime import serialdate"
   ]
  },
  {
   "cell_type": "code",
   "execution_count": null,
   "id": "45364404-4e33-43b9-8b7d-49f5674466b2",
   "metadata": {},
   "outputs": [],
   "source": [
    "now = dt.now()\n",
    "\n",
    "year = now.strftime(\"%Y\")\n",
    "print(\"year:\", year)\n",
    "\n",
    "month = now.strftime(\"%m\")\n",
    "print(\"month:\", month)\n",
    "\n",
    "day = now.strftime(\"%d\")\n",
    "print(\"day:\", day)\n",
    "\n",
    "time = now.strftime(\"%H:%M:%S\")\n",
    "print(\"time:\", time)\n",
    "\n",
    "date_time = now.strftime(\"%m/%d/%Y, %H:%M:%S\")\n",
    "print(\"date and time:\",date_time)"
   ]
  },
  {
   "cell_type": "code",
   "execution_count": null,
   "id": "bd0f9388-2872-457c-b9d1-c0ced87c2c6b",
   "metadata": {},
   "outputs": [],
   "source": [
    "day1 = now.toordinal()\n",
    "day2 = day1 + 365\n",
    "\n",
    "days = np.arange(day1,day2)\n",
    "\n",
    "dts = np.array([dt.fromordinal(d) for d in days])\n",
    "\n",
    "plt.figure()\n",
    "plt.plot(dts,days)"
   ]
  },
  {
   "cell_type": "markdown",
   "id": "cd8b77c0-e64b-4226-a72d-870031fe56a5",
   "metadata": {},
   "source": [
    "# Questions\n",
    "\n",
    "1) Load data.npy again. This time look a lot closer at the first column. Since we have been talking about time you may have a better idea of what this column is (*Hint*: it was exported in a rather weird format, so if it *seems* weird you are probably correct). \n",
    "\n",
    "2) Convert the first column to a datetime object.\n",
    "\n",
    "3) Plot the the two columns, with the times on the x axis and the second column on the y-axis. Any guesses what the second column is?\n",
    "\n",
    "4) *Challenge*: Separate the datetime array into twelve smaller arrays, one for each month. Index column 2 in the same way so that you now have twelve time vectors and twelve corresponding vectors taken from column 2. "
   ]
  },
  {
   "cell_type": "code",
   "execution_count": null,
   "id": "6c80059d-114e-4636-a37d-0c93a7279cd6",
   "metadata": {},
   "outputs": [],
   "source": [
    "import pyproj"
   ]
  },
  {
   "cell_type": "code",
   "execution_count": null,
   "id": "bdbd8230-ae53-48c9-ad68-f9ab2388bf89",
   "metadata": {},
   "outputs": [],
   "source": [
    "proj_stere = pyproj.Proj('epsg:3031')"
   ]
  },
  {
   "cell_type": "code",
   "execution_count": null,
   "id": "101fa2b6-923e-4101-ac01-e14977b7292a",
   "metadata": {},
   "outputs": [],
   "source": [
    "lon = 0.\n",
    "lat = -90.\n",
    "x,y = proj_stere(lon,lat)\n",
    "proj_stere(x,y,inverse=True)"
   ]
  },
  {
   "cell_type": "markdown",
   "id": "a32eccce-ed88-45e0-a2fe-9f9a5eaace6e",
   "metadata": {},
   "source": [
    "# Questions:\n",
    "\n",
    "1) Load two numpy arrays from the data directory:\n",
    "    - ./data/coast.npy\n",
    "    - ./data/grounding_line.npy\n",
    "    \n",
    "2) Plot the data as they are. You may need to use a different marker than the standard line '-', try:\n",
    "\n",
    "    `plt.plot(coast[:,0],coast[:,1],'.')`\n",
    "\n",
    "3) If you hadn't noticed, these are latitude/longitude data. Convert them to Polar Stereographic x/y and replot to see if you can recognize the shape better."
   ]
  }
 ],
 "metadata": {
  "kernelspec": {
   "display_name": "Python 3",
   "language": "python",
   "name": "python3"
  },
  "language_info": {
   "codemirror_mode": {
    "name": "ipython",
    "version": 3
   },
   "file_extension": ".py",
   "mimetype": "text/x-python",
   "name": "python",
   "nbconvert_exporter": "python",
   "pygments_lexer": "ipython3",
   "version": "3.8.8"
  }
 },
 "nbformat": 4,
 "nbformat_minor": 5
}
