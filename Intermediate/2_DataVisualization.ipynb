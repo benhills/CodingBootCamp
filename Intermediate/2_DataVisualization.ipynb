{
 "cells": [
  {
   "cell_type": "markdown",
   "id": "c8cacad9-785d-46f3-b6b0-51e315996945",
   "metadata": {},
   "source": [
    "# Data Visualization\n",
    "\n",
    "Now that we are more familiar with what modules are and how to use them, I want to use the remaining 'Intermediate' notebooks to explore some of the common scientific modules. The first, and most commonly used (outside of numpy maybe), is matplotlib."
   ]
  },
  {
   "cell_type": "code",
   "execution_count": null,
   "id": "6c3d40c2-586a-4a00-9417-ad7faf7b17ba",
   "metadata": {},
   "outputs": [],
   "source": [
    "import matplotlib\n",
    "matplotlib"
   ]
  },
  {
   "cell_type": "markdown",
   "id": "365aa062-d55f-4190-b117-c5d48d1bf5a4",
   "metadata": {},
   "source": [
    "I generally skip directly to the `pyplot` submodule and import it as `plt`. This is commonly done, so you may see it in example code on helpers like in stackoverflow. Import both numpy and matplotlib below, this next cell will likely be in every notebook you create from now on."
   ]
  },
  {
   "cell_type": "code",
   "execution_count": null,
   "id": "c5db311b-9feb-46c3-af21-3c414d96fdaa",
   "metadata": {},
   "outputs": [],
   "source": [
    "import numpy as np\n",
    "import matplotlib.pyplot as plt"
   ]
  },
  {
   "cell_type": "markdown",
   "id": "d1cee324-cc55-41c3-8236-5a59cc566037",
   "metadata": {},
   "source": [
    "Now, with just these two modules, we can start to visualize arrays that we build. Start with a simple range as we have been using but then try playing around with sine functions as I have laid out below."
   ]
  },
  {
   "cell_type": "code",
   "execution_count": null,
   "id": "eb951d2d-51ea-4667-9373-29e5ed33d84f",
   "metadata": {},
   "outputs": [],
   "source": [
    "# Define the range with numpy\n",
    "a = np.arange(100)\n",
    "\n",
    "# Initialize the figure\n",
    "plt.figure()\n",
    "# Plot the range\n",
    "plt.plot(a)"
   ]
  },
  {
   "cell_type": "markdown",
   "id": "7880fef6-7762-41c3-87f2-60020bdeef28",
   "metadata": {},
   "source": [
    "# Sine Function"
   ]
  },
  {
   "cell_type": "code",
   "execution_count": null,
   "id": "c6a2186d-dfa5-42b5-9fda-6cb40f086bdf",
   "metadata": {},
   "outputs": [],
   "source": [
    "# Prescribe a wavelength for a sine function we are going to write\n",
    "λ = (2.*np.pi)/25.\n",
    "# Define the sine function with numpy\n",
    "s = np.sin(λ*a)\n",
    "\n",
    "# Initialize the figure\n",
    "plt.figure()\n",
    "# Plot the sine function with the independent variable, a, on the x-axis\n",
    "# and the dependent variable, s, on the y-axis\n",
    "plt.plot(a,s)\n",
    "# Print labels on the x and y axes\n",
    "plt.ylabel('sin(aλ)')\n",
    "plt.xlabel('a')"
   ]
  },
  {
   "cell_type": "code",
   "execution_count": null,
   "id": "1d4dbfbb-f921-4851-9b55-f468c36b297d",
   "metadata": {},
   "outputs": [],
   "source": [
    "# Now overlay two sine functions with different amplitude and frequency\n",
    "\n",
    "a = np.arange(0,100,.01)\n",
    "λ1 = (2.*np.pi)/25.\n",
    "s1 = np.sin(λ1*a)\n",
    "\n",
    "λ2 = (2.*np.pi)/0.2\n",
    "s2 = 0.1*np.sin(λ2*a)\n",
    "\n",
    "s = s1 + s2\n",
    "\n",
    "plt.figure()\n",
    "plt.plot(a,s)\n",
    "plt.ylabel('sin(a$λ_1$)+sin(a$λ_2$)')\n",
    "plt.xlabel('a')"
   ]
  },
  {
   "cell_type": "code",
   "execution_count": null,
   "id": "2a5a8c5f-3ede-464c-bcd0-781f3708b0ab",
   "metadata": {},
   "outputs": [],
   "source": [
    "# You can't see the periodicity from the smaller wavelength function at this aspect. \n",
    "# Next, we change the x-axis limits for a better view\n",
    "\n",
    "plt.figure()\n",
    "plt.plot(a,s)\n",
    "plt.ylabel('sin(a$λ_1$)+sin(a$λ_2$)')\n",
    "plt.xlabel('a')\n",
    "plt.xlim(0,10)"
   ]
  },
  {
   "cell_type": "markdown",
   "id": "c36f0042-6592-4099-a4e2-646622179b90",
   "metadata": {},
   "source": [
    "# Exponential"
   ]
  },
  {
   "cell_type": "code",
   "execution_count": null,
   "id": "2bea0d7b-92d3-481b-9e0a-632c03315e3e",
   "metadata": {},
   "outputs": [],
   "source": [
    "e = np.exp(a)\n",
    "\n",
    "plt.figure()\n",
    "plt.plot(a,e)\n",
    "plt.ylabel('exp(a)')\n",
    "plt.xlabel('a')"
   ]
  },
  {
   "cell_type": "code",
   "execution_count": null,
   "id": "267a0236-f9e3-4826-9d94-ed04f204cdfa",
   "metadata": {},
   "outputs": [],
   "source": [
    "plt.figure()\n",
    "plt.semilogy(a,e)\n",
    "plt.ylabel('exp(a)')\n",
    "plt.xlabel('a')"
   ]
  },
  {
   "cell_type": "markdown",
   "id": "5793e983-3516-46e2-93e7-8d03838378eb",
   "metadata": {},
   "source": [
    "# Histogram"
   ]
  },
  {
   "cell_type": "code",
   "execution_count": null,
   "id": "b5d9ed1a-3de3-4767-a95b-287ad4d05f66",
   "metadata": {},
   "outputs": [],
   "source": [
    "r = np.random.rand(1000)\n",
    "\n",
    "plt.figure()\n",
    "plt.hist(r)"
   ]
  },
  {
   "cell_type": "code",
   "execution_count": null,
   "id": "de3ef044-25cf-4f2a-868b-479cda7e24ff",
   "metadata": {},
   "outputs": [],
   "source": [
    "r = np.random.normal(size=1000)\n",
    "\n",
    "plt.figure()\n",
    "plt.hist(r,bins=100);"
   ]
  },
  {
   "cell_type": "markdown",
   "id": "9faa167f-f98c-485f-b7e8-2e34c160cc6b",
   "metadata": {},
   "source": [
    "# 2-D Plots"
   ]
  },
  {
   "cell_type": "code",
   "execution_count": null,
   "id": "99e42fa1-275c-4ca7-b88d-212dbf4757c6",
   "metadata": {},
   "outputs": [],
   "source": [
    "plt.figure()\n",
    "plt.imshow(np.random.random((100,100)))\n",
    "plt.colorbar()"
   ]
  },
  {
   "cell_type": "code",
   "execution_count": null,
   "id": "24c95d2f-20b6-451a-be98-842dd69db9d0",
   "metadata": {},
   "outputs": [],
   "source": [
    "X,Y = np.meshgrid(np.arange(100),\n",
    "                  np.arange(100))\n",
    "λ = 2.*np.pi/100.\n",
    "SIN = np.sin(λ*X)*np.sin(λ*Y)\n",
    "plt.figure()\n",
    "plt.imshow(SIN)\n",
    "plt.colorbar()"
   ]
  },
  {
   "cell_type": "markdown",
   "id": "a3884f0a-7122-4454-b140-adec24b7e688",
   "metadata": {},
   "source": [
    "## Questions\n",
    "\n",
    "1) Continuing on with the data file from before, ideally in the ./DatasetAnswers.ipynb. Plot the two columns and try to interpret what they might be.\n",
    "\n",
    "2) Make your figure look nice by adding labels and a title, adjusting the axes and tick parameters, labeling the line and adding a legend, etc.\n",
    "    Some pyplot functions to get you started:\n",
    "    - plt.xlabel; plt.ylabel\n",
    "    - plt.title\n",
    "    - plt.xlim; plt.ylim\n",
    "    - plt.tick_params\n",
    "    - plt.legend  \n",
    "\n",
    "For now, you may not know what exactly the data are, so you can make up something fun :)"
   ]
  }
 ],
 "metadata": {
  "kernelspec": {
   "display_name": "Python 3",
   "language": "python",
   "name": "python3"
  },
  "language_info": {
   "codemirror_mode": {
    "name": "ipython",
    "version": 3
   },
   "file_extension": ".py",
   "mimetype": "text/x-python",
   "name": "python",
   "nbconvert_exporter": "python",
   "pygments_lexer": "ipython3",
   "version": "3.8.8"
  }
 },
 "nbformat": 4,
 "nbformat_minor": 5
}
