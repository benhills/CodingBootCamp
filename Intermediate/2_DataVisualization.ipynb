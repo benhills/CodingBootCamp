{
 "cells": [
  {
   "cell_type": "markdown",
   "id": "c8cacad9-785d-46f3-b6b0-51e315996945",
   "metadata": {},
   "source": [
    "# Data Visualization\n",
    "\n",
    "Now that we are more familiar with what modules are and how to use them, I want to use the remaining 'Intermediate' notebooks to explore some of the common scientific modules. The first, and most commonly used (outside of numpy maybe), is matplotlib."
   ]
  },
  {
   "cell_type": "code",
   "execution_count": null,
   "id": "6c3d40c2-586a-4a00-9417-ad7faf7b17ba",
   "metadata": {},
   "outputs": [],
   "source": [
    "import matplotlib\n",
    "matplotlib"
   ]
  },
  {
   "cell_type": "code",
   "execution_count": null,
   "id": "c5db311b-9feb-46c3-af21-3c414d96fdaa",
   "metadata": {},
   "outputs": [],
   "source": [
    "import numpy as np\n",
    "import matplotlib.pyplot as plt"
   ]
  },
  {
   "cell_type": "code",
   "execution_count": null,
   "id": "eb951d2d-51ea-4667-9373-29e5ed33d84f",
   "metadata": {},
   "outputs": [],
   "source": [
    "a = np.arange(100)\n",
    "\n",
    "plt.figure()\n",
    "plt.plot(a)"
   ]
  },
  {
   "cell_type": "code",
   "execution_count": null,
   "id": "c6a2186d-dfa5-42b5-9fda-6cb40f086bdf",
   "metadata": {},
   "outputs": [],
   "source": [
    "s = np.sin(a/(2.*np.pi))\n",
    "\n",
    "plt.figure()\n",
    "plt.plot(a,s)\n",
    "plt.ylabel('sin(a)')\n",
    "plt.xlabel('a')"
   ]
  },
  {
   "cell_type": "code",
   "execution_count": null,
   "id": "1d4dbfbb-f921-4851-9b55-f468c36b297d",
   "metadata": {},
   "outputs": [],
   "source": [
    "a = np.arange(0,100,.01)\n",
    "s = np.sin(a/(2.*np.pi))+.1*np.sin(a/(.02*np.pi))\n",
    "\n",
    "plt.figure()\n",
    "plt.plot(a,s)\n",
    "plt.ylabel('sin(a/$λ_1$)+sin(a/$λ_2$)')\n",
    "plt.xlabel('a')"
   ]
  },
  {
   "cell_type": "code",
   "execution_count": null,
   "id": "2a5a8c5f-3ede-464c-bcd0-781f3708b0ab",
   "metadata": {},
   "outputs": [],
   "source": [
    "plt.figure()\n",
    "plt.plot(a,s)\n",
    "plt.ylabel('sin(a/$λ_1$)+sin(a/$λ_2$)')\n",
    "plt.xlabel('a')\n",
    "plt.xlim(0,10)"
   ]
  },
  {
   "cell_type": "code",
   "execution_count": null,
   "id": "2bea0d7b-92d3-481b-9e0a-632c03315e3e",
   "metadata": {},
   "outputs": [],
   "source": [
    "e = np.exp(a)\n",
    "\n",
    "plt.figure()\n",
    "plt.plot(a,e)\n",
    "plt.ylabel('exp(a)')\n",
    "plt.xlabel('a')"
   ]
  },
  {
   "cell_type": "code",
   "execution_count": null,
   "id": "267a0236-f9e3-4826-9d94-ed04f204cdfa",
   "metadata": {},
   "outputs": [],
   "source": [
    "plt.figure()\n",
    "plt.semilogy(a,e)\n",
    "plt.ylabel('exp(a)')\n",
    "plt.xlabel('a')"
   ]
  },
  {
   "cell_type": "code",
   "execution_count": null,
   "id": "b5d9ed1a-3de3-4767-a95b-287ad4d05f66",
   "metadata": {},
   "outputs": [],
   "source": [
    "r = np.random.rand(1000)\n",
    "\n",
    "plt.figure()\n",
    "plt.hist(r)"
   ]
  },
  {
   "cell_type": "code",
   "execution_count": null,
   "id": "d3e895ad-ffab-4559-8b46-1821d24a7550",
   "metadata": {},
   "outputs": [],
   "source": [
    "r = np.random.normal(size=1000)\n",
    "\n",
    "plt.figure()\n",
    "plt.hist(r,bins=100);"
   ]
  },
  {
   "cell_type": "code",
   "execution_count": null,
   "id": "765a7ca2-4564-4314-8cba-bc69dac87742",
   "metadata": {},
   "outputs": [],
   "source": [
    "plt.figure()\n",
    "plt.imshow(np.random.random((100,100)))\n",
    "plt.colorbar()"
   ]
  },
  {
   "cell_type": "markdown",
   "id": "a3884f0a-7122-4454-b140-adec24b7e688",
   "metadata": {},
   "source": [
    "# Questions\n",
    "\n",
    "1) Reload the data file using `np.load()` as before. Plot the two columns and try to interpret what they might be.\n",
    "\n",
    "2) Make your figure look nice by adding labels and a title, adjusting the axes and tick parameters, labeling the line and adding a legend, etc.\n",
    "    Some pyplot functions to get you started:\n",
    "    - plt.xlabel; plt.ylabel\n",
    "    - plt.title\n",
    "    - plt.xlim; plt.ylim\n",
    "    - plt.tick_params\n",
    "    - plt.legend"
   ]
  }
 ],
 "metadata": {
  "kernelspec": {
   "display_name": "Python 3",
   "language": "python",
   "name": "python3"
  },
  "language_info": {
   "codemirror_mode": {
    "name": "ipython",
    "version": 3
   },
   "file_extension": ".py",
   "mimetype": "text/x-python",
   "name": "python",
   "nbconvert_exporter": "python",
   "pygments_lexer": "ipython3",
   "version": "3.8.8"
  }
 },
 "nbformat": 4,
 "nbformat_minor": 5
}
